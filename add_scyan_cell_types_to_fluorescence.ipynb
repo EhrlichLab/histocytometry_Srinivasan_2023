{
 "cells": [
  {
   "cell_type": "code",
   "execution_count": 13,
   "metadata": {},
   "outputs": [],
   "source": [
    "## Add scyan_pops.tif to original image\n",
    "import tifffile\n",
    "import numpy as np\n",
    "import os\n",
    "import re\n",
    "## use Mesmer_pypi conda environment "
   ]
  },
  {
   "cell_type": "code",
   "execution_count": 23,
   "metadata": {},
   "outputs": [],
   "source": [
    "input_dir = \"/stor/scratch/Ehrlich/Users/John/histocytometry/raw_images\"\n",
    "hc_dirs = [os.path.join(input_dir, dir) for dir in os.listdir(input_dir) if re.search(\"(2|4)0x_\", dir) and not re.search(\"data|knowledge_tables|plots|SOCS2|40x_pan_DAPI_CD63_CD11c_XCR1|pan\", dir) and re.search(\"DAPI_CD63_CD11c_XCR1|DAPI_CD63_CD11c_Sirpa\", dir)]\n",
    "## I'm removing the SOCS2 and panorama images for now."
   ]
  },
  {
   "cell_type": "code",
   "execution_count": 18,
   "metadata": {},
   "outputs": [
    {
     "data": {
      "text/plain": [
       "['/stor/scratch/Ehrlich/Users/John/histocytometry/raw_images/40x_Medulla_DAPI_CD63_CD11c_Sirpa',\n",
       " '/stor/scratch/Ehrlich/Users/John/histocytometry/raw_images/40x_Medulla_DAPI_CD63_CD11c_XCR1',\n",
       " '/stor/scratch/Ehrlich/Users/John/histocytometry/raw_images/40x_Cortex_DAPI_CD63_CD11c_XCR1',\n",
       " '/stor/scratch/Ehrlich/Users/John/histocytometry/raw_images/40x_Cortex_DAPI_CD63_CD11c_Sirpa',\n",
       " '/stor/scratch/Ehrlich/Users/John/histocytometry/raw_images/40x_CMJ_DAPI_CD63_CD11c_Sirpa',\n",
       " '/stor/scratch/Ehrlich/Users/John/histocytometry/raw_images/40x_CMJ_DAPI_CD63_CD11c_XCR1']"
      ]
     },
     "execution_count": 18,
     "metadata": {},
     "output_type": "execute_result"
    }
   ],
   "source": [
    "hc_dirs"
   ]
  },
  {
   "cell_type": "code",
   "execution_count": 24,
   "metadata": {},
   "outputs": [],
   "source": [
    "for hc_dir in hc_dirs: \n",
    "    ## Add scyan_pops.tif to original image\n",
    "    scyan_path    = os.path.join(hc_dir, \"scyan_pops.tif\")\n",
    "    scyan_pop_img = tifffile.imread(scyan_path)\n",
    "\n",
    "    original_img_path = os.path.join(hc_dir, \"sub_image.ome.tif\")\n",
    "    original_img = tifffile.imread(original_img_path)\n",
    "\n",
    "    scyan_pop_img = scyan_pop_img.astype(original_img.dtype)\n",
    "    if len(np.shape(scyan_pop_img)) == 2:\n",
    "        scyan_pop_img = scyan_pop_img[np.newaxis,...]\n",
    "    \n",
    "    img_w_cell_types = np.concatenate((original_img, scyan_pop_img))\n",
    "    tifffile.imwrite(os.path.join(hc_dir, \"image_w_cell_types.ome.tif\"), img_w_cell_types)"
   ]
  }
 ],
 "metadata": {
  "kernelspec": {
   "display_name": "Mesmer_pypi",
   "language": "python",
   "name": "mesmer_pypi"
  },
  "language_info": {
   "codemirror_mode": {
    "name": "ipython",
    "version": 3
   },
   "file_extension": ".py",
   "mimetype": "text/x-python",
   "name": "python",
   "nbconvert_exporter": "python",
   "pygments_lexer": "ipython3",
   "version": "3.7.16"
  }
 },
 "nbformat": 4,
 "nbformat_minor": 2
}
