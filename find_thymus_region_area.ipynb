{
 "cells": [
  {
   "cell_type": "markdown",
   "metadata": {},
   "source": [
    "# Finding area of thymus regions for histocytometry\n",
    "\n",
    "Use Mesmer_pypi conda environment\n",
    "\n",
    "1. Load in image\n",
    "\n",
    "2. Calculate area of 3 tissue regions in pixels\n",
    "\n",
    "3. Convert pixel area to interpertable area\n",
    "\n",
    "4. Save output as DataFrame w/ sample info and area in both forms"
   ]
  },
  {
   "cell_type": "code",
   "execution_count": 1,
   "metadata": {},
   "outputs": [],
   "source": [
    "import pandas as pd \n",
    "import numpy as np\n",
    "import tifffile\n",
    "import os \n",
    "import re"
   ]
  },
  {
   "cell_type": "markdown",
   "metadata": {},
   "source": [
    "## Functions"
   ]
  },
  {
   "cell_type": "code",
   "execution_count": 2,
   "metadata": {},
   "outputs": [],
   "source": [
    "def calculate_tissue_area(img_dir, img_name, XY_resolution= 0.479):\n",
    "    img= tifffile.imread(os.path.join(img_dir, img_name))\n",
    "\n",
    "    region_count_table = np.unique(img, return_counts= True)\n",
    "    total_area = np.sum(img > 0)\n",
    "    region_prop_table = region_count_table[1]/total_area\n",
    "    region_areas = region_count_table[1] * (XY_resolution ** 2) ## pixel XY_resolution\n",
    "\n",
    "    data = {\"region_id\"          : region_count_table[0],\n",
    "            \"region_pixel_count\" : region_count_table[1], \n",
    "            \"region_area\"        : region_areas, \n",
    "            \"region_prop_table\"  : region_prop_table,\n",
    "            \"total_area\"         : total_area, \n",
    "            \"sample\"             : img_dir}\n",
    "    region_df = pd.DataFrame(data)\n",
    "\n",
    "    return(region_df)"
   ]
  },
  {
   "cell_type": "markdown",
   "metadata": {},
   "source": [
    "## Running images"
   ]
  },
  {
   "cell_type": "code",
   "execution_count": 3,
   "metadata": {},
   "outputs": [],
   "source": [
    "raw_dir = \"/stor/scratch/Ehrlich/Users/John/histocytometry/raw_images/images_2023-08-10\"\n",
    "img_dirs= [os.path.join(raw_dir, img_dir) for img_dir in os.listdir(raw_dir) if re.search(r\"_[A-D]$\", img_dir) and not re.search(\"Sirpa_C$|CD207_CD11c_XCR1_C$|MerTK_C$\", img_dir)]"
   ]
  },
  {
   "cell_type": "code",
   "execution_count": 4,
   "metadata": {},
   "outputs": [
    {
     "name": "stdout",
     "output_type": "stream",
     "text": [
      "Done with /stor/scratch/Ehrlich/Users/John/histocytometry/raw_images/images_2023-08-10/20x_pan_DAPI_Sirpa_CD63_MerTK_B\n",
      "Done with /stor/scratch/Ehrlich/Users/John/histocytometry/raw_images/images_2023-08-10/20x_pan_DAPI_B220_CD11c_SiglecH_B\n",
      "Done with /stor/scratch/Ehrlich/Users/John/histocytometry/raw_images/images_2023-08-10/20x_pan_DAPI_CD63_CD11c_XCR1_A\n",
      "Done with /stor/scratch/Ehrlich/Users/John/histocytometry/raw_images/images_2023-08-10/20x_pan_DAPI_B220_CD11c_SiglecH_A\n",
      "Done with /stor/scratch/Ehrlich/Users/John/histocytometry/raw_images/images_2023-08-10/20x_pan_DAPI_Sirpa_CD63_MerTK_A\n",
      "Done with /stor/scratch/Ehrlich/Users/John/histocytometry/raw_images/images_2023-08-10/20x_pan_DAPI_Sirpa_CD11c_CD14_C\n",
      "Done with /stor/scratch/Ehrlich/Users/John/histocytometry/raw_images/images_2023-08-10/20x_pan_DAPI_CD63_CD11c_Sirpa_D\n",
      "Done with /stor/scratch/Ehrlich/Users/John/histocytometry/raw_images/images_2023-08-10/20x_pan_DAPI_CD207_CD11c_XCR1_D\n",
      "Done with /stor/scratch/Ehrlich/Users/John/histocytometry/raw_images/images_2023-08-10/20x_pan_DAPI_CD63_CD11c_XCR1_B\n",
      "Done with /stor/scratch/Ehrlich/Users/John/histocytometry/raw_images/images_2023-08-10/20x_pan_DAPI_Sirpa_CD63_MerTK_D\n",
      "Done with /stor/scratch/Ehrlich/Users/John/histocytometry/raw_images/images_2023-08-10/20x_pan_DAPI_Sirpa_CD11c_CD14_A\n",
      "Done with /stor/scratch/Ehrlich/Users/John/histocytometry/raw_images/images_2023-08-10/20x_pan_DAPI_CD63_CD11c_Sirpa_A\n",
      "Done with /stor/scratch/Ehrlich/Users/John/histocytometry/raw_images/images_2023-08-10/20x_pan_DAPI_CD207_CD11c_XCR1_A\n",
      "Done with /stor/scratch/Ehrlich/Users/John/histocytometry/raw_images/images_2023-08-10/20x_pan_DAPI_B220_CD11c_SiglecH_C\n",
      "Done with /stor/scratch/Ehrlich/Users/John/histocytometry/raw_images/images_2023-08-10/20x_pan_DAPI_CD63_CD11c_XCR1_C\n",
      "Done with /stor/scratch/Ehrlich/Users/John/histocytometry/raw_images/images_2023-08-10/20x_pan_DAPI_Sirpa_CD11c_CD14_B\n",
      "Done with /stor/scratch/Ehrlich/Users/John/histocytometry/raw_images/images_2023-08-10/20x_pan_DAPI_CD63_CD11c_XCR1_D\n",
      "Done with /stor/scratch/Ehrlich/Users/John/histocytometry/raw_images/images_2023-08-10/20x_pan_DAPI_CD207_CD11c_XCR1_B\n",
      "Done with /stor/scratch/Ehrlich/Users/John/histocytometry/raw_images/images_2023-08-10/20x_pan_DAPI_CD63_CD11c_Sirpa_B\n"
     ]
    }
   ],
   "source": [
    "df_list = []\n",
    "for img_dir in img_dirs:\n",
    "    region_df = calculate_tissue_area(img_dir  = img_dir, \n",
    "                                      img_name = \"thymus_regions_50um.tif\")\n",
    "    df_list.append(region_df)\n",
    "    print(f\"Done with {img_dir}\")"
   ]
  },
  {
   "cell_type": "code",
   "execution_count": 5,
   "metadata": {},
   "outputs": [
    {
     "name": "stdout",
     "output_type": "stream",
     "text": [
      "(76, 6)\n"
     ]
    },
    {
     "data": {
      "text/html": [
       "<div>\n",
       "<style scoped>\n",
       "    .dataframe tbody tr th:only-of-type {\n",
       "        vertical-align: middle;\n",
       "    }\n",
       "\n",
       "    .dataframe tbody tr th {\n",
       "        vertical-align: top;\n",
       "    }\n",
       "\n",
       "    .dataframe thead th {\n",
       "        text-align: right;\n",
       "    }\n",
       "</style>\n",
       "<table border=\"1\" class=\"dataframe\">\n",
       "  <thead>\n",
       "    <tr style=\"text-align: right;\">\n",
       "      <th></th>\n",
       "      <th>region_id</th>\n",
       "      <th>region_pixel_count</th>\n",
       "      <th>region_area</th>\n",
       "      <th>region_prop_table</th>\n",
       "      <th>total_area</th>\n",
       "      <th>sample</th>\n",
       "    </tr>\n",
       "  </thead>\n",
       "  <tbody>\n",
       "    <tr>\n",
       "      <th>0</th>\n",
       "      <td>0</td>\n",
       "      <td>93593653</td>\n",
       "      <td>2.147422e+07</td>\n",
       "      <td>0.657821</td>\n",
       "      <td>142278347</td>\n",
       "      <td>/stor/scratch/Ehrlich/Users/John/histocytometr...</td>\n",
       "    </tr>\n",
       "    <tr>\n",
       "      <th>1</th>\n",
       "      <td>1</td>\n",
       "      <td>100565888</td>\n",
       "      <td>2.307394e+07</td>\n",
       "      <td>0.706825</td>\n",
       "      <td>142278347</td>\n",
       "      <td>/stor/scratch/Ehrlich/Users/John/histocytometr...</td>\n",
       "    </tr>\n",
       "    <tr>\n",
       "      <th>2</th>\n",
       "      <td>2</td>\n",
       "      <td>21506380</td>\n",
       "      <td>4.934445e+06</td>\n",
       "      <td>0.151157</td>\n",
       "      <td>142278347</td>\n",
       "      <td>/stor/scratch/Ehrlich/Users/John/histocytometr...</td>\n",
       "    </tr>\n",
       "    <tr>\n",
       "      <th>3</th>\n",
       "      <td>3</td>\n",
       "      <td>20206079</td>\n",
       "      <td>4.636103e+06</td>\n",
       "      <td>0.142018</td>\n",
       "      <td>142278347</td>\n",
       "      <td>/stor/scratch/Ehrlich/Users/John/histocytometr...</td>\n",
       "    </tr>\n",
       "    <tr>\n",
       "      <th>0</th>\n",
       "      <td>0</td>\n",
       "      <td>88240413</td>\n",
       "      <td>2.024597e+07</td>\n",
       "      <td>0.628227</td>\n",
       "      <td>140459349</td>\n",
       "      <td>/stor/scratch/Ehrlich/Users/John/histocytometr...</td>\n",
       "    </tr>\n",
       "  </tbody>\n",
       "</table>\n",
       "</div>"
      ],
      "text/plain": [
       "   region_id  region_pixel_count   region_area  region_prop_table  total_area  \\\n",
       "0          0            93593653  2.147422e+07           0.657821   142278347   \n",
       "1          1           100565888  2.307394e+07           0.706825   142278347   \n",
       "2          2            21506380  4.934445e+06           0.151157   142278347   \n",
       "3          3            20206079  4.636103e+06           0.142018   142278347   \n",
       "0          0            88240413  2.024597e+07           0.628227   140459349   \n",
       "\n",
       "                                              sample  \n",
       "0  /stor/scratch/Ehrlich/Users/John/histocytometr...  \n",
       "1  /stor/scratch/Ehrlich/Users/John/histocytometr...  \n",
       "2  /stor/scratch/Ehrlich/Users/John/histocytometr...  \n",
       "3  /stor/scratch/Ehrlich/Users/John/histocytometr...  \n",
       "0  /stor/scratch/Ehrlich/Users/John/histocytometr...  "
      ]
     },
     "execution_count": 5,
     "metadata": {},
     "output_type": "execute_result"
    }
   ],
   "source": [
    "combined_df = pd.concat(df_list)\n",
    "print(combined_df.shape)\n",
    "combined_df.head()"
   ]
  },
  {
   "cell_type": "code",
   "execution_count": 18,
   "metadata": {},
   "outputs": [],
   "source": [
    "combined_df.to_csv(\"/stor/scratch/Ehrlich/Users/John/histocytometry/raw_images/images_2023-08-10/data/region_areas_50um.csv\", index= False)"
   ]
  }
 ],
 "metadata": {
  "kernelspec": {
   "display_name": "Mesmer_pypi",
   "language": "python",
   "name": "python3"
  },
  "language_info": {
   "codemirror_mode": {
    "name": "ipython",
    "version": 3
   },
   "file_extension": ".py",
   "mimetype": "text/x-python",
   "name": "python",
   "nbconvert_exporter": "python",
   "pygments_lexer": "ipython3",
   "version": "3.7.16"
  },
  "orig_nbformat": 4
 },
 "nbformat": 4,
 "nbformat_minor": 2
}
