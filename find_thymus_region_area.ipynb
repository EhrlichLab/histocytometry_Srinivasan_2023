{
 "cells": [
  {
   "cell_type": "markdown",
   "metadata": {},
   "source": [
    "# Finding area of thymus regions for histocytometry\n",
    "\n",
    "1. Load in image\n",
    "\n",
    "2. Calculate area of 3 tissue regions in pixels\n",
    "\n",
    "3. Convert pixel area to interpertable area\n",
    "\n",
    "4. Save output as DataFrame w/ sample info and area in both forms"
   ]
  },
  {
   "cell_type": "code",
   "execution_count": null,
   "metadata": {},
   "outputs": [],
   "source": [
    "import pandas as pd \n",
    "import numpy as np\n",
    "import tifffile\n",
    "import os \n",
    "import re"
   ]
  },
  {
   "cell_type": "markdown",
   "metadata": {},
   "source": [
    "## Functions"
   ]
  },
  {
   "cell_type": "code",
   "execution_count": null,
   "metadata": {},
   "outputs": [],
   "source": [
    "def calculate_tissue_area(img_dir, img_name, XY_resolution= 0.479):\n",
    "    img= tifffile.imread(os.path.join(img_dir, img_name))\n",
    "\n",
    "    region_count_table = np.unique(img, return_counts= True)\n",
    "    total_area = np.sum(img > 0)\n",
    "    region_prop_table = region_count_table[1]/total_area\n",
    "    region_areas = region_count_table[1] * (XY_resolution ** 2) ## pixel XY_resolution\n",
    "\n",
    "    data = {\"region_id\"          : region_count_table[0],\n",
    "            \"region_pixel_count\" : region_count_table[1], \n",
    "            \"region_area\"        : region_areas, \n",
    "            \"region_prop_table\"  : region_prop_table,\n",
    "            \"total_area\"         : total_area, \n",
    "            \"sample\"             : img_dir}\n",
    "    region_df = pd.DataFrame(data)\n",
    "\n",
    "    return(region_df)"
   ]
  },
  {
   "cell_type": "markdown",
   "metadata": {},
   "source": [
    "## Running images"
   ]
  },
  {
   "cell_type": "code",
   "execution_count": null,
   "metadata": {},
   "outputs": [],
   "source": [
    "raw_dir = \"/stor/scratch/Ehrlich/Users/John/histocytometry/raw_images/images_2023-08-10\"\n",
    "img_dirs= [os.path.join(raw_dir, img_dir) for img_dir in os.listdir(raw_dir) if re.search(r\"_[A-D]$\", img_dir) and not re.search(\"Sirpa_C$|CD207_CD11c_XCR1_C$|MerTK_C$\", img_dir)]"
   ]
  },
  {
   "cell_type": "code",
   "execution_count": null,
   "metadata": {},
   "outputs": [],
   "source": [
    "df_list = []\n",
    "for img_dir in img_dirs:\n",
    "    region_df = calculate_tissue_area(img_dir  = img_dir, \n",
    "                                      img_name = \"thymus_regions_50um.tif\")\n",
    "    df_list.append(region_df)\n",
    "    print(f\"Done with {img_dir}\")"
   ]
  },
  {
   "cell_type": "code",
   "execution_count": null,
   "metadata": {},
   "outputs": [],
   "source": [
    "combined_df = pd.concat(df_list)\n",
    "print(combined_df.shape)\n",
    "combined_df.head()"
   ]
  },
  {
   "cell_type": "code",
   "execution_count": null,
   "metadata": {},
   "outputs": [],
   "source": [
    "combined_df.to_csv(\"/stor/scratch/Ehrlich/Users/John/histocytometry/raw_images/images_2023-08-10/data/region_areas_50um.csv\", index= False)"
   ]
  }
 ],
 "metadata": {
  "kernelspec": {
   "display_name": "Mesmer_pypi",
   "language": "python",
   "name": "python3"
  },
  "language_info": {
   "codemirror_mode": {
    "name": "ipython",
    "version": 3
   },
   "file_extension": ".py",
   "mimetype": "text/x-python",
   "name": "python",
   "nbconvert_exporter": "python",
   "pygments_lexer": "ipython3",
   "version": "3.7.16"
  },
  "orig_nbformat": 4
 },
 "nbformat": 4,
 "nbformat_minor": 2
}
