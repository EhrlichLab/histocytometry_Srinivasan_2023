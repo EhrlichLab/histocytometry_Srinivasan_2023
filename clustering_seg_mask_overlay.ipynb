{
 "cells": [
  {
   "attachments": {},
   "cell_type": "markdown",
   "metadata": {},
   "source": [
    "## Overlaying gated populations on histocytometry images from Ryan "
   ]
  },
  {
   "cell_type": "code",
   "execution_count": 2,
   "metadata": {},
   "outputs": [
    {
     "data": {
      "text/plain": [
       "cluster_mask_histocytometry (generic function with 1 method)"
      ]
     },
     "metadata": {},
     "output_type": "display_data"
    }
   ],
   "source": [
    "include(\"/stor/work/Ehrlich/Users/John/projects/AKOYA/scripts/flowSOM/seg_mask_coloring_functions.jl\")\n",
    "## Loads in cluster_mask_threaded() and required packages "
   ]
  },
  {
   "attachments": {},
   "cell_type": "markdown",
   "metadata": {},
   "source": [
    "### Concatenating gated populations"
   ]
  },
  {
   "cell_type": "code",
   "execution_count": 116,
   "metadata": {},
   "outputs": [
    {
     "data": {
      "text/plain": [
       "2-element Vector{String}:\n",
       " \"/stor/work/Ehrlich/Users/John/p\" ⋯ 26 bytes ⋯ \"y/40x_CMJ_DAPI_CD63_CD11c_Sirpa\"\n",
       " \"/stor/work/Ehrlich/Users/John/p\" ⋯ 29 bytes ⋯ \"0x_Cortex_DAPI_CD63_CD11c_Sirpa\""
      ]
     },
     "metadata": {},
     "output_type": "display_data"
    }
   ],
   "source": [
    "hc_dir = \"/stor/work/Ehrlich/Users/John/projects/misc/histocytometry\"\n",
    "hc_dirs = readdir(hc_dir, join= true)\n",
    "hc_dirs= [dir for dir in hc_dirs if contains(dir, \"_Sirpa\") & !contains(dir, \"pan\") & !contains(dir, \"Medulla\")]"
   ]
  },
  {
   "cell_type": "code",
   "execution_count": 122,
   "metadata": {},
   "outputs": [
    {
     "data": {
      "text/plain": [
       "Dict{String, Vector{Float64}} with 4 entries:\n",
       "  \"aDC2\"          => [0.0, 127.0, 177.0]\n",
       "  \"not_annotated\" => [199.0, 33.0, 221.0]\n",
       "  \"cDC2\"          => [209.0, 74.0, 0.0]\n",
       "  \"CD11c+_Sirpa-\" => [0.0, 140.0, 0.0]"
      ]
     },
     "metadata": {},
     "output_type": "display_data"
    }
   ],
   "source": [
    "cluster_ids = [\"not_annotated\", \"cDC2\", \"CD11c+_Sirpa-\", \"aDC2\"]\n",
    "my_colors = distinguishable_colors(length(cluster_ids), \n",
    "                                   [RGB(1,1,1), RGB(0,0,0)], \n",
    "                                   dropseed = true)\n",
    "my_colors = channelview(my_colors) .* 255\n",
    "\n",
    "my_colors= Dict(\"not_annotated\" => [199.0, 33.0, 221.0], \n",
    "                \"cDC2\"          => [209.0, 74.0, 0.0],\n",
    "                \"CD11c+_Sirpa-\" => [0.0, 140.0, 0.0], \n",
    "                \"aDC2\"          => [0.0, 127.0, 177.0])       "
   ]
  },
  {
   "cell_type": "code",
   "execution_count": 130,
   "metadata": {},
   "outputs": [
    {
     "name": "stdout",
     "output_type": "stream",
     "text": [
      "Done with one cluster!\n",
      "Done with one cluster!\n",
      "Done with one cluster!\n",
      "Done with one cluster!\n"
     ]
    },
    {
     "name": "stderr",
     "output_type": "stream",
     "text": [
      "\u001b[33m\u001b[1m┌ \u001b[22m\u001b[39m\u001b[33m\u001b[1mWarning: \u001b[22m\u001b[39mModule FileIO with build ID 1758713145082693 is missing from the cache.\n",
      "\u001b[33m\u001b[1m│ \u001b[22m\u001b[39mThis may mean FileIO [5789e2e9-d7fb-5bc7-8068-2c6fae9b9549] does not support precompilation but is imported by a module that does.\n",
      "\u001b[33m\u001b[1m└ \u001b[22m\u001b[39m\u001b[90m@ Base loading.jl:1107\u001b[39m\n",
      "WARNING: both ImageMetadata and ImageAxes export \"data\"; uses of it in module Images must be qualified\n",
      "┌ Warning: Mapping to the storage type failed; perhaps your data had out-of-range values?\n",
      "│ Try `map(clamp01nan, img)` to clamp values to a valid range.\n",
      "└ @ ImageMagick /stor/home/jfm2773/.julia/packages/ImageMagick/Fh2BX/src/ImageMagick.jl:179\n"
     ]
    },
    {
     "ename": "InterruptException",
     "evalue": "InterruptException:",
     "output_type": "error",
     "traceback": [
      "InterruptException:\n",
      "\n",
      "Stacktrace:\n",
      "  [1] show(io::IOBuffer, s::Symbol)\n",
      "    @ Base ./show.jl:1265\n",
      "  [2] show_typeparams(io::IOBuffer, env::Core.SimpleVector, orig::Core.SimpleVector, wheres::Vector{TypeVar})\n",
      "    @ Base ./show.jl:640\n",
      "  [3] show_datatype(io::IOBuffer, x::DataType, wheres::Vector{TypeVar})\n",
      "    @ Base ./show.jl:1011\n",
      "  [4] show_datatype\n",
      "    @ ./show.jl:989 [inlined]\n",
      "  [5] _show_type(io::IOBuffer, x::Type)\n",
      "    @ Base ./show.jl:889\n",
      "  [6] show(io::IOBuffer, x::Type)\n",
      "    @ Base ./show.jl:881\n",
      "  [7] show_typeparams(io::IOBuffer, env::Core.SimpleVector, orig::Core.SimpleVector, wheres::Vector{TypeVar})\n",
      "    @ Base ./show.jl:640\n",
      "  [8] show_datatype(io::IOBuffer, x::DataType, wheres::Vector{TypeVar})\n",
      "    @ Base ./show.jl:1011\n",
      "  [9] show_datatype\n",
      "    @ ./show.jl:989 [inlined]\n",
      " [10] _show_type(io::IOBuffer, x::Type)\n",
      "    @ Base ./show.jl:889\n",
      " [11] show(io::IOBuffer, x::Type)\n",
      "    @ Base ./show.jl:881\n",
      " [12] _show_default(io::IOBuffer, x::Any)\n",
      "    @ Base ./show.jl:400\n",
      " [13] show_default\n",
      "    @ ./show.jl:396 [inlined]\n",
      " [14] show(io::IOBuffer, x::Any)\n",
      "    @ Base ./show.jl:391\n",
      " [15] sprint(f::Function, args::File{DataFormat{:TIFF}, String}; context::Nothing, sizehint::Int64)\n",
      "    @ Base ./strings/io.jl:114\n",
      " [16] #repr#429\n",
      "    @ ./strings/io.jl:282 [inlined]\n",
      " [17] repr(x::File{DataFormat{:TIFF}, String})\n",
      "    @ Base ./strings/io.jl:282\n",
      " [18] action(call::Symbol, libraries::Vector{Union{Base.PkgId, Module}}, file::Formatted, args::Base.ReshapedArray{RGB{Float64}, 2, Base.ReinterpretArray{RGB{Float64}, 3, Float64, Array{Float64, 3}, false}, Tuple{}}; options::Base.Pairs{Symbol, Union{}, Tuple{}, NamedTuple{(), Tuple{}}})\n",
      "    @ FileIO ~/.julia/packages/FileIO/DtNtF/src/loadsave.jl:228\n",
      " [19] action\n",
      "    @ ~/.julia/packages/FileIO/DtNtF/src/loadsave.jl:197 [inlined]\n",
      " [20] action(call::Symbol, libraries::Vector{Union{Base.PkgId, Module}}, sym::Symbol, file::String, args::Base.ReshapedArray{RGB{Float64}, 2, Base.ReinterpretArray{RGB{Float64}, 3, Float64, Array{Float64, 3}, false}, Tuple{}}; options::Base.Pairs{Symbol, Union{}, Tuple{}, NamedTuple{(), Tuple{}}})\n",
      "    @ FileIO ~/.julia/packages/FileIO/DtNtF/src/loadsave.jl:185\n",
      " [21] action\n",
      "    @ ~/.julia/packages/FileIO/DtNtF/src/loadsave.jl:185 [inlined]\n",
      " [22] #save#20\n",
      "    @ ~/.julia/packages/FileIO/DtNtF/src/loadsave.jl:129 [inlined]\n",
      " [23] save(file::String, args::Base.ReshapedArray{RGB{Float64}, 2, Base.ReinterpretArray{RGB{Float64}, 3, Float64, Array{Float64, 3}, false}, Tuple{}})\n",
      "    @ FileIO ~/.julia/packages/FileIO/DtNtF/src/loadsave.jl:126\n",
      " [24] cluster_mask_histocytometry(seg_mask_path::String, image_meta_path::String, out_path::String, my_colors::Dict{String, Vector{Float64}})\n",
      "    @ Main /stor/work/Ehrlich/Users/John/projects/AKOYA/scripts/flowSOM/seg_mask_coloring_functions.jl:122\n",
      " [25] top-level scope\n",
      "    @ /stor/work/Ehrlich/Users/John/projects/misc/histocytometry/scripts/clustering_seg_mask_overlay.ipynb:6"
     ]
    }
   ],
   "source": [
    "for histo_dir in hc_dirs\n",
    "    quant_path = joinpath(histo_dir, \"combined_gated_cell_types.csv\")\n",
    "    mask_path  = joinpath(histo_dir, \"mask.tif\")\n",
    "    out_path   = joinpath(histo_dir, \"gating_pops.tif\")\n",
    "\n",
    "    cluster_mask_histocytometry(mask_path,\n",
    "                                quant_path, \n",
    "                                out_path,\n",
    "                                my_colors)\n",
    "end"
   ]
  },
  {
   "cell_type": "code",
   "execution_count": 13,
   "metadata": {},
   "outputs": [
    {
     "data": {
      "image/svg+xml": "<?xml version=\"1.0\" encoding=\"UTF-8\"?>\n<!DOCTYPE svg PUBLIC \"-//W3C//DTD SVG 1.1//EN\"\n \"http://www.w3.org/Graphics/SVG/1.1/DTD/svg11.dtd\">\n<svg xmlns=\"http://www.w3.org/2000/svg\" version=\"1.1\"\n     width=\"180mm\" height=\"25mm\"\n     viewBox=\"0 0 30 1\" preserveAspectRatio=\"none\"\n     shape-rendering=\"crispEdges\" stroke=\"none\">\n<rect width=\".83\" height=\".96\" x=\"0\" y=\"0\" fill=\"#C721DD\" />\n<rect width=\".83\" height=\".96\" x=\"1\" y=\"0\" fill=\"#D14A00\" />\n<rect width=\".83\" height=\".96\" x=\"2\" y=\"0\" fill=\"#008C00\" />\n<rect width=\".83\" height=\".96\" x=\"3\" y=\"0\" fill=\"#007FB1\" />\n<rect width=\".83\" height=\".96\" x=\"4\" y=\"0\" fill=\"#D1AC00\" />\n<rect width=\".83\" height=\".96\" x=\"5\" y=\"0\" fill=\"#870036\" />\n<rect width=\".83\" height=\".96\" x=\"6\" y=\"0\" fill=\"#FF8FA1\" />\n<rect width=\".83\" height=\".96\" x=\"7\" y=\"0\" fill=\"#00008B\" />\n<rect width=\".83\" height=\".96\" x=\"8\" y=\"0\" fill=\"#2EFF71\" />\n<rect width=\".83\" height=\".96\" x=\"9\" y=\"0\" fill=\"#675200\" />\n<rect width=\".83\" height=\".96\" x=\"10\" y=\"0\" fill=\"#00D0D9\" />\n<rect width=\".83\" height=\".96\" x=\"11\" y=\"0\" fill=\"#005043\" />\n<rect width=\".83\" height=\".96\" x=\"12\" y=\"0\" fill=\"#7E747E\" />\n<rect width=\".83\" height=\".96\" x=\"13\" y=\"0\" fill=\"#A3BDFF\" />\n<rect width=\".83\" height=\".96\" x=\"14\" y=\"0\" fill=\"#95A087\" />\n<rect width=\".83\" height=\".96\" x=\"15\" y=\"0\" fill=\"#FFAC79\" />\n<rect width=\".83\" height=\".96\" x=\"16\" y=\"0\" fill=\"#5E2300\" />\n<rect width=\".83\" height=\".96\" x=\"17\" y=\"0\" fill=\"#FFFFA0\" />\n<rect width=\".83\" height=\".96\" x=\"18\" y=\"0\" fill=\"#493E5E\" />\n<rect width=\".83\" height=\".96\" x=\"19\" y=\"0\" fill=\"#FF88FF\" />\n<rect width=\".83\" height=\".96\" x=\"20\" y=\"0\" fill=\"#F1004F\" />\n<rect width=\".83\" height=\".96\" x=\"21\" y=\"0\" fill=\"#008B76\" />\n<rect width=\".83\" height=\".96\" x=\"22\" y=\"0\" fill=\"#004EC1\" />\n<rect width=\".83\" height=\".96\" x=\"23\" y=\"0\" fill=\"#2A0017\" />\n<rect width=\".83\" height=\".96\" x=\"24\" y=\"0\" fill=\"#FFD9FF\" />\n<rect width=\".83\" height=\".96\" x=\"25\" y=\"0\" fill=\"#BDABA8\" />\n<rect width=\".83\" height=\".96\" x=\"26\" y=\"0\" fill=\"#262A00\" />\n<rect width=\".83\" height=\".96\" x=\"27\" y=\"0\" fill=\"#B6F9D9\" />\n<rect width=\".83\" height=\".96\" x=\"28\" y=\"0\" fill=\"#A7825A\" />\n<rect width=\".83\" height=\".96\" x=\"29\" y=\"0\" fill=\"#967CC6\" />\n</svg>",
      "text/plain": [
       "30-element Array{RGB{N0f8},1} with eltype RGB{N0f8}:\n",
       " RGB{N0f8}(0.78,0.129,0.867)\n",
       " RGB{N0f8}(0.82,0.29,0.0)\n",
       " RGB{N0f8}(0.0,0.549,0.0)\n",
       " RGB{N0f8}(0.0,0.498,0.694)\n",
       " RGB{N0f8}(0.82,0.675,0.0)\n",
       " RGB{N0f8}(0.529,0.0,0.212)\n",
       " RGB{N0f8}(1.0,0.561,0.631)\n",
       " RGB{N0f8}(0.0,0.0,0.545)\n",
       " RGB{N0f8}(0.18,1.0,0.443)\n",
       " RGB{N0f8}(0.404,0.322,0.0)\n",
       " ⋮\n",
       " RGB{N0f8}(0.0,0.545,0.463)\n",
       " RGB{N0f8}(0.0,0.306,0.757)\n",
       " RGB{N0f8}(0.165,0.0,0.09)\n",
       " RGB{N0f8}(1.0,0.851,1.0)\n",
       " RGB{N0f8}(0.741,0.671,0.659)\n",
       " RGB{N0f8}(0.149,0.165,0.0)\n",
       " RGB{N0f8}(0.714,0.976,0.851)\n",
       " RGB{N0f8}(0.655,0.51,0.353)\n",
       " RGB{N0f8}(0.588,0.486,0.776)"
      ]
     },
     "metadata": {},
     "output_type": "display_data"
    }
   ],
   "source": [
    "distinguishable_colors(30, [RGB(1,1,1), RGB(0,0,0)], dropseed= true)\n"
   ]
  },
  {
   "cell_type": "code",
   "execution_count": 28,
   "metadata": {},
   "outputs": [
    {
     "name": "stdout",
     "output_type": "stream",
     "text": [
      "RGB{Float32}(199.0f0,33.0f0,221.0f0)\n",
      "RGB{Float32}(209.0f0,74.0f0,0.0f0)\n",
      "RGB{Float32}(0.0f0,140.0f0,0.0f0)\n",
      "RGB{Float32}(0.0f0,127.0f0,177.0f0)\n",
      "RGB{Float32}(209.0f0,172.0f0,0.0f0)\n",
      "RGB{Float32}(135.0f0,0.0f0,54.0f0)\n",
      "RGB{Float32}(255.0f0,143.0f0,161.0f0)\n",
      "RGB{Float32}(0.0f0,0.0f0,139.0f0)\n",
      "RGB{Float32}(46.0f0,255.0f0,113.0f0)\n",
      "RGB{Float32}(103.0f0,82.0f0,0.0f0)\n",
      "RGB{Float32}(0.0f0,208.0f0,217.0f0)\n",
      "RGB{Float32}(0.0f0,80.0f0,67.0f0)\n",
      "RGB{Float32}(126.0f0,116.0f0,126.0f0)\n",
      "RGB{Float32}(163.0f0,189.0f0,255.0f0)\n",
      "RGB{Float32}(149.0f0,160.0f0,135.0f0)\n",
      "RGB{Float32}(255.0f0,172.0f0,121.0f0)\n",
      "RGB{Float32}(94.0f0,35.0f0,0.0f0)\n",
      "RGB{Float32}(255.0f0,255.0f0,160.0f0)\n",
      "RGB{Float32}(73.0f0,62.0f0,94.0f0)\n",
      "RGB{Float32}(255.0f0,136.0f0,255.0f0)\n",
      "RGB{Float32}(241.0f0,0.0f0,79.0f0)\n",
      "RGB{Float32}(0.0f0,139.0f0,118.0f0)\n",
      "RGB{Float32}(0.0f0,78.0f0,193.0f0)\n",
      "RGB{Float32}(42.0f0,0.0f0,23.0f0)\n",
      "RGB{Float32}(255.0f0,217.0f0,255.0f0)\n",
      "RGB{Float32}(189.0f0,171.0f0,168.0f0)\n",
      "RGB{Float32}(38.0f0,42.0f0,0.0f0)\n",
      "RGB{Float32}(182.0f0,249.0f0,217.0f0)\n",
      "RGB{Float32}(167.0f0,130.0f0,90.0f0)\n",
      "RGB{Float32}(150.0f0,124.0f0,198.0f0)\n"
     ]
    }
   ],
   "source": [
    "my_colors= distinguishable_colors(30, [RGB(1,1,1), RGB(0,0,0)], dropseed= true) \n",
    "\n",
    "for my_color in my_colors\n",
    "    println(my_color .* 255)\n",
    "end"
   ]
  }
 ],
 "metadata": {
  "kernelspec": {
   "display_name": "Julia 1.7.1",
   "language": "julia",
   "name": "julia-1.7"
  },
  "language_info": {
   "file_extension": ".jl",
   "mimetype": "application/julia",
   "name": "julia",
   "version": "1.7.1"
  },
  "orig_nbformat": 4
 },
 "nbformat": 4,
 "nbformat_minor": 2
}
