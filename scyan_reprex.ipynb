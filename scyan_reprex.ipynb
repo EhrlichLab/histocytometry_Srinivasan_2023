{
 "cells": [
  {
   "attachments": {},
   "cell_type": "markdown",
   "metadata": {},
   "source": [
    "# Scyan Github Issue\n",
    "\n",
    "- Conda environment\n",
    "\n",
    "- Simple example works \n",
    "\n",
    "- Simple example with num_workers set doesn't work\n",
    "\n",
    "- My follow-up question has to do with using GPU acceleration with Scyan"
   ]
  },
  {
   "cell_type": "code",
   "execution_count": null,
   "metadata": {},
   "outputs": [],
   "source": [
    "# conda create --name scyan python=3.9\n",
    "# conda activate scyan\n",
    "# git clone https://github.com/MICS-Lab/scyan.git\n",
    "# cd scyan\n",
    "# python -m pip install . \n",
    "# python -m pip install ipykernel \n",
    "# python -m ipykernel install --user --name=scyan_reprex\n",
    "\n",
    "## I'm getting an error for the torchvision and torhcaudio packages for torch 1.13.1\n",
    "    ## I could try installing these manually as part of my workflow. \n"
   ]
  },
  {
   "cell_type": "code",
   "execution_count": 1,
   "metadata": {},
   "outputs": [
    {
     "name": "stderr",
     "output_type": "stream",
     "text": [
      "/stor/home/jfm2773/anaconda3/envs/scyan_reprex/lib/python3.9/site-packages/tqdm/auto.py:21: TqdmWarning: IProgress not found. Please update jupyter and ipywidgets. See https://ipywidgets.readthedocs.io/en/stable/user_install.html\n",
      "  from .autonotebook import tqdm as notebook_tqdm\n",
      "/stor/home/jfm2773/.local/lib/python3.9/site-packages/torchvision/io/image.py:13: UserWarning: Failed to load image Python extension: '/stor/home/jfm2773/.local/lib/python3.9/site-packages/torchvision/image.so: undefined symbol: _ZN3c104cuda20CUDACachingAllocator9allocatorE'If you don't plan on using image functionality from `torchvision.io`, you can ignore this warning. Otherwise, there might be something wrong with your environment. Did you have `libjpeg` or `libpng` installed before building `torchvision` from source?\n",
      "  warn(\n",
      "Global seed set to 0\n"
     ]
    }
   ],
   "source": [
    "import scyan\n",
    "import pandas as pd\n",
    "import os\n",
    "import matplotlib\n",
    "import matplotlib.pyplot as plt\n",
    "import numpy as np\n",
    "import anndata\n",
    "%matplotlib inline\n",
    "import re \n",
    "from pathlib import Path"
   ]
  },
  {
   "cell_type": "code",
   "execution_count": 4,
   "metadata": {},
   "outputs": [],
   "source": [
    "adata, table = scyan.data.load(\"aml\")"
   ]
  },
  {
   "attachments": {},
   "cell_type": "markdown",
   "metadata": {},
   "source": [
    "## Github example works with my environment "
   ]
  },
  {
   "cell_type": "code",
   "execution_count": 3,
   "metadata": {},
   "outputs": [
    {
     "name": "stderr",
     "output_type": "stream",
     "text": [
      "\u001b[36;20m[INFO] (scyan.model)\u001b[0m Initialized Scyan model with N=104184 cells, P=14 populations and M=14 markers.\n",
      "   ├── No covariate provided\n",
      "   ├── No continuum-marker provided\n",
      "   └── Batch correction mode: False\n",
      "\u001b[36;20m[INFO] (scyan.model)\u001b[0m Training scyan with the following hyperparameters:\n",
      "\"batch_key\":       None\n",
      "\"batch_size\":      8192\n",
      "\"hidden_size\":     16\n",
      "\"lr\":              0.0005\n",
      "\"max_samples\":     200000\n",
      "\"modulo_temp\":     3\n",
      "\"n_hidden_layers\": 6\n",
      "\"n_layers\":        7\n",
      "\"prior_std\":       0.3\n",
      "\"temperature\":     0.5\n",
      "\n",
      "GPU available: False, used: False\n",
      "TPU available: False, using: 0 TPU cores\n",
      "IPU available: False, using: 0 IPUs\n",
      "HPU available: False, using: 0 HPUs\n",
      "\n",
      "  | Name   | Type        | Params\n",
      "---------------------------------------\n",
      "0 | module | ScyanModule | 29.6 K\n",
      "---------------------------------------\n",
      "29.6 K    Trainable params\n",
      "0         Non-trainable params\n",
      "29.6 K    Total params\n",
      "0.118     Total estimated model params size (MB)\n"
     ]
    },
    {
     "name": "stdout",
     "output_type": "stream",
     "text": [
      "Epoch 22: 100%|██████████| 12/12 [00:31<00:00,  2.61s/it, loss=13.8]"
     ]
    },
    {
     "name": "stderr",
     "output_type": "stream",
     "text": [
      "\u001b[36;20m[INFO] (scyan.model)\u001b[0m Successfully ended traning.\n"
     ]
    },
    {
     "name": "stdout",
     "output_type": "stream",
     "text": [
      "\n"
     ]
    },
    {
     "name": "stderr",
     "output_type": "stream",
     "text": [
      "DataLoader: 100%|██████████| 13/13 [00:01<00:00,  9.21it/s]\n"
     ]
    },
    {
     "data": {
      "text/plain": [
       "0                pDCs\n",
       "1           Basophils\n",
       "2                pDCs\n",
       "3           Basophils\n",
       "4           Basophils\n",
       "             ...     \n",
       "104179    Pro B cells\n",
       "104180    Pre B cells\n",
       "104181    Pro B cells\n",
       "104182    Pro B cells\n",
       "104183    Pre B cells\n",
       "Length: 104184, dtype: category\n",
       "Categories (14, object): ['Basophils', 'CD16+ NK cells', 'CD16- NK cells', 'CD34+CD38+CD123+ HSPCs', ..., 'Plasma B cells', 'Pre B cells', 'Pro B cells', 'pDCs']"
      ]
     },
     "execution_count": 3,
     "metadata": {},
     "output_type": "execute_result"
    }
   ],
   "source": [
    "model = scyan.Scyan(adata, table)\n",
    "model.fit()\n",
    "model.predict()"
   ]
  },
  {
   "attachments": {},
   "cell_type": "markdown",
   "metadata": {},
   "source": [
    "## Same example with more than 1 process fails "
   ]
  },
  {
   "cell_type": "code",
   "execution_count": 5,
   "metadata": {},
   "outputs": [
    {
     "name": "stderr",
     "output_type": "stream",
     "text": [
      "\u001b[36;20m[INFO] (scyan.model)\u001b[0m Initialized Scyan model with N=104184 cells, P=14 populations and M=14 markers.\n",
      "   ├── No covariate provided\n",
      "   ├── No continuum-marker provided\n",
      "   └── Batch correction mode: False\n",
      "\u001b[36;20m[INFO] (scyan.model)\u001b[0m Training scyan with the following hyperparameters:\n",
      "\"batch_key\":       None\n",
      "\"batch_size\":      8192\n",
      "\"hidden_size\":     16\n",
      "\"lr\":              0.0005\n",
      "\"max_samples\":     200000\n",
      "\"modulo_temp\":     3\n",
      "\"n_hidden_layers\": 6\n",
      "\"n_layers\":        7\n",
      "\"prior_std\":       0.3\n",
      "\"temperature\":     0.5\n",
      "\n",
      "GPU available: False, used: False\n",
      "TPU available: False, using: 0 TPU cores\n",
      "IPU available: False, using: 0 IPUs\n",
      "HPU available: False, using: 0 HPUs\n",
      "\n",
      "  | Name   | Type        | Params\n",
      "---------------------------------------\n",
      "0 | module | ScyanModule | 29.6 K\n",
      "---------------------------------------\n",
      "29.6 K    Trainable params\n",
      "0         Non-trainable params\n",
      "29.6 K    Total params\n",
      "0.118     Total estimated model params size (MB)\n"
     ]
    },
    {
     "name": "stdout",
     "output_type": "stream",
     "text": [
      "Epoch 25:   0%|          | 0/12 [00:00<?, ?it/s, loss=11.7]         "
     ]
    },
    {
     "name": "stderr",
     "output_type": "stream",
     "text": [
      "Traceback (most recent call last):\n",
      "  File \"/stor/home/jfm2773/anaconda3/envs/scyan_reprex/lib/python3.9/multiprocessing/queues.py\", line 244, in _feed\n",
      "    obj = _ForkingPickler.dumps(obj)\n",
      "  File \"/stor/home/jfm2773/anaconda3/envs/scyan_reprex/lib/python3.9/multiprocessing/reduction.py\", line 51, in dumps\n",
      "    cls(buf, protocol).dump(obj)\n",
      "  File \"/stor/home/jfm2773/anaconda3/envs/scyan_reprex/lib/python3.9/site-packages/torch/multiprocessing/reductions.py\", line 367, in reduce_storage\n",
      "    df = multiprocessing.reduction.DupFd(fd)\n",
      "  File \"/stor/home/jfm2773/anaconda3/envs/scyan_reprex/lib/python3.9/multiprocessing/reduction.py\", line 198, in DupFd\n",
      "    return resource_sharer.DupFd(fd)\n",
      "  File \"/stor/home/jfm2773/anaconda3/envs/scyan_reprex/lib/python3.9/multiprocessing/resource_sharer.py\", line 48, in __init__\n",
      "    new_fd = os.dup(fd)\n",
      "OSError: [Errno 9] Bad file descriptor\n",
      "/stor/home/jfm2773/anaconda3/envs/scyan_reprex/lib/python3.9/site-packages/pytorch_lightning/trainer/call.py:48: UserWarning: Detected KeyboardInterrupt, attempting graceful shutdown...\n",
      "  rank_zero_warn(\"Detected KeyboardInterrupt, attempting graceful shutdown...\")\n",
      "\u001b[36;20m[INFO] (scyan.model)\u001b[0m Successfully ended traning.\n"
     ]
    },
    {
     "name": "stdout",
     "output_type": "stream",
     "text": [
      "Epoch 25:   0%|          | 0/12 [00:36<?, ?it/s, loss=11.7]\n"
     ]
    },
    {
     "name": "stderr",
     "output_type": "stream",
     "text": [
      "Exception ignored in: <function _MultiProcessingDataLoaderIter.__del__ at 0x7fa5e33d6940>\n",
      "Traceback (most recent call last):\n",
      "  File \"/stor/home/jfm2773/anaconda3/envs/scyan_reprex/lib/python3.9/site-packages/torch/utils/data/dataloader.py\", line 1466, in __del__\n",
      "    self._shutdown_workers()\n",
      "  File \"/stor/home/jfm2773/anaconda3/envs/scyan_reprex/lib/python3.9/site-packages/torch/utils/data/dataloader.py\", line 1449, in _shutdown_workers\n",
      "    if w.is_alive():\n",
      "  File \"/stor/home/jfm2773/anaconda3/envs/scyan_reprex/lib/python3.9/multiprocessing/process.py\", line 160, in is_alive\n",
      "    assert self._parent_pid == os.getpid(), 'can only test a child process'\n",
      "AssertionError: can only test a child process\n"
     ]
    },
    {
     "name": "stdout",
     "output_type": "stream",
     "text": [
      "Epoch 25:   0%|          | 0/12 [00:36<?, ?it/s, loss=11.7]\n"
     ]
    },
    {
     "name": "stderr",
     "output_type": "stream",
     "text": [
      "Exception ignored in: <function _MultiProcessingDataLoaderIter.__del__ at 0x7fa5e33d6940>\n",
      "Traceback (most recent call last):\n",
      "  File \"/stor/home/jfm2773/anaconda3/envs/scyan_reprex/lib/python3.9/site-packages/torch/utils/data/dataloader.py\", line 1466, in __del__\n",
      "    self._shutdown_workers()\n",
      "  File \"/stor/home/jfm2773/anaconda3/envs/scyan_reprex/lib/python3.9/site-packages/torch/utils/data/dataloader.py\", line 1449, in _shutdown_workers\n",
      "    if w.is_alive():\n",
      "  File \"/stor/home/jfm2773/anaconda3/envs/scyan_reprex/lib/python3.9/multiprocessing/process.py\", line 160, in is_alive\n",
      "    assert self._parent_pid == os.getpid(), 'can only test a child process'\n",
      "AssertionError: can only test a child process\n"
     ]
    },
    {
     "name": "stdout",
     "output_type": "stream",
     "text": [
      "Epoch 25:   0%|          | 0/12 [00:36<?, ?it/s, loss=11.7]\n"
     ]
    },
    {
     "name": "stderr",
     "output_type": "stream",
     "text": [
      "Exception ignored in: <function _MultiProcessingDataLoaderIter.__del__ at 0x7fa5e33d6940>\n",
      "Traceback (most recent call last):\n",
      "  File \"/stor/home/jfm2773/anaconda3/envs/scyan_reprex/lib/python3.9/site-packages/torch/utils/data/dataloader.py\", line 1466, in __del__\n",
      "    self._shutdown_workers()\n",
      "  File \"/stor/home/jfm2773/anaconda3/envs/scyan_reprex/lib/python3.9/site-packages/torch/utils/data/dataloader.py\", line 1449, in _shutdown_workers\n",
      "    if w.is_alive():\n",
      "  File \"/stor/home/jfm2773/anaconda3/envs/scyan_reprex/lib/python3.9/multiprocessing/process.py\", line 160, in is_alive\n",
      "    assert self._parent_pid == os.getpid(), 'can only test a child process'\n",
      "AssertionError: can only test a child process\n",
      "DataLoader: 100%|██████████| 13/13 [00:01<00:00,  6.55it/s]\n"
     ]
    },
    {
     "data": {
      "text/plain": [
       "0                pDCs\n",
       "1           Basophils\n",
       "2           Basophils\n",
       "3           Basophils\n",
       "4           Basophils\n",
       "             ...     \n",
       "104179    Pro B cells\n",
       "104180    Pre B cells\n",
       "104181    Pro B cells\n",
       "104182    Pro B cells\n",
       "104183    Pre B cells\n",
       "Length: 104184, dtype: category\n",
       "Categories (14, object): ['Basophils', 'CD16+ NK cells', 'CD16- NK cells', 'CD34+CD38+CD123+ HSPCs', ..., 'Plasma B cells', 'Pre B cells', 'Pro B cells', 'pDCs']"
      ]
     },
     "execution_count": 5,
     "metadata": {},
     "output_type": "execute_result"
    }
   ],
   "source": [
    "## Is it a matter of needing to re-start the kernel before running the model again with 2 processes. \n",
    "model = scyan.Scyan(adata, table)\n",
    "model.fit(num_workers = 5)\n",
    "model.predict()\n",
    "## It worked with 2 and it worked with 5 somewhat.\n",
    "    ## It seems unstable this way, which doesn't make any sense to me. "
   ]
  },
  {
   "cell_type": "code",
   "execution_count": 5,
   "metadata": {},
   "outputs": [
    {
     "name": "stderr",
     "output_type": "stream",
     "text": [
      "\u001b[36;20m[INFO] (scyan.model)\u001b[0m Initialized Scyan model with N=104184 cells, P=14 populations and M=14 markers.\n",
      "   ├── No covariate provided\n",
      "   ├── No continuum-marker provided\n",
      "   └── Batch correction mode: False\n",
      "\u001b[36;20m[INFO] (scyan.model)\u001b[0m Training scyan with the following hyperparameters:\n",
      "\"batch_key\":       None\n",
      "\"batch_size\":      8192\n",
      "\"hidden_size\":     16\n",
      "\"lr\":              0.0005\n",
      "\"max_samples\":     200000\n",
      "\"modulo_temp\":     3\n",
      "\"n_hidden_layers\": 6\n",
      "\"n_layers\":        7\n",
      "\"prior_std\":       0.3\n",
      "\"temperature\":     0.5\n",
      "\n",
      "GPU available: False, used: False\n",
      "TPU available: False, using: 0 TPU cores\n",
      "IPU available: False, using: 0 IPUs\n",
      "HPU available: False, using: 0 HPUs\n",
      "\n",
      "  | Name   | Type        | Params\n",
      "---------------------------------------\n",
      "0 | module | ScyanModule | 29.6 K\n",
      "---------------------------------------\n",
      "29.6 K    Trainable params\n",
      "0         Non-trainable params\n",
      "29.6 K    Total params\n",
      "0.118     Total estimated model params size (MB)\n"
     ]
    },
    {
     "name": "stdout",
     "output_type": "stream",
     "text": [
      "Epoch 0:   0%|          | 0/12 [00:00<?, ?it/s] "
     ]
    },
    {
     "ename": "",
     "evalue": "",
     "output_type": "error",
     "traceback": [
      "\u001b[1;31mCanceled future for execute_request message before replies were done"
     ]
    },
    {
     "ename": "",
     "evalue": "",
     "output_type": "error",
     "traceback": [
      "\u001b[1;31mThe Kernel crashed while executing code in the the current cell or a previous cell. Please review the code in the cell(s) to identify a possible cause of the failure. Click <a href='https://aka.ms/vscodeJupyterKernelCrash'>here</a> for more info. View Jupyter <a href='command:jupyter.viewOutput'>log</a> for further details."
     ]
    }
   ],
   "source": [
    "## Is it a matter of needing to re-start the kernel before running the model again with 2 processes. \n",
    "model = scyan.Scyan(adata, table)\n",
    "model.fit(num_workers = 30)\n",
    "model.predict()\n",
    "## It failed with 30 \n",
    "    ## Is this a kernel issue? \n",
    "    ## I should run this in a tmux terminal. "
   ]
  }
 ],
 "metadata": {
  "kernelspec": {
   "display_name": "scyan_reprex",
   "language": "python",
   "name": "python3"
  },
  "language_info": {
   "codemirror_mode": {
    "name": "ipython",
    "version": 3
   },
   "file_extension": ".py",
   "mimetype": "text/x-python",
   "name": "python",
   "nbconvert_exporter": "python",
   "pygments_lexer": "ipython3",
   "version": "3.9.16"
  },
  "orig_nbformat": 4
 },
 "nbformat": 4,
 "nbformat_minor": 2
}
