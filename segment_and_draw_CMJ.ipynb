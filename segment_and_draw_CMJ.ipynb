{
 "cells": [
  {
   "cell_type": "markdown",
   "metadata": {},
   "source": [
    "# Making CMJ mask out of medullary mask\n"
   ]
  },
  {
   "cell_type": "code",
   "execution_count": null,
   "metadata": {},
   "outputs": [],
   "source": [
    "import cv2 \n",
    "import numpy as np\n",
    "import pandas as pd\n",
    "import os\n",
    "import re\n",
    "import tifffile\n",
    "import matplotlib.pyplot as plt\n",
    "%matplotlib inline"
   ]
  },
  {
   "cell_type": "markdown",
   "metadata": {},
   "source": [
    "## Functions"
   ]
  },
  {
   "cell_type": "code",
   "execution_count": null,
   "metadata": {},
   "outputs": [],
   "source": [
    "def make_one_binary(img):\n",
    "    ## Ensure that binary mask values are either 0 or 1 \n",
    "        ## I could speed this up by just doing img[img > 0], but I want to know if any erroneous values are in the mask for some reason.\n",
    "    img = img * np.uint8(1)\n",
    "        ## Converts boolean values to 0 and 1 \n",
    "        \n",
    "    uni_img = np.sort(np.unique(img))\n",
    "    if not np.all(uni_img == np.array([0,1], dtype= \"uint8\")):\n",
    "        if max(uni_img) == 255:\n",
    "            img[img > 0] = 1 \n",
    "        else:\n",
    "            raise ValueError(\"Max value in array is neither 1 nor 255\")\n",
    "    return img\n",
    "\n",
    "\n",
    "def mask_cmj(img_dir         : str, ## Really str_or_path \n",
    "             medulla_name    : str, \n",
    "             whole_lobe_name : str,\n",
    "             cmj_name        : str,\n",
    "             cmj_distance    : int,\n",
    "             XY_resolution   : float) -> None:\n",
    "    medullary_mask = tifffile.imread(os.path.join(img_dir, medulla_name)).astype(\"uint8\")\n",
    "\n",
    "    ## Ensure that binary mask values are either 0 or 1 \n",
    "    medullary_mask = make_one_binary(medullary_mask)\n",
    "    \n",
    "    ## Make a CMJ mask \n",
    "    pixel_distance = np.ceil(cmj_distance/XY_resolution) ## Convert distance in micrometers to pixels given the size of the pixel (XY_resolution)\n",
    "    kernel_size = int(2 * pixel_distance + 1)\n",
    "        ## 2x gets twice the distance on either side using a square kernel \n",
    "        ## No need to calculate derivatives nor tangents. \n",
    "        ## +1 to make the kernel size odd and have a clear center\n",
    "    kernel      = np.ones((kernel_size, kernel_size), np.uint8)\n",
    "    dilate_mask = cv2.dilate(medullary_mask, kernel, iterations=1).astype(\"uint8\") ## larger\n",
    "    erode_mask  = cv2.erode(medullary_mask,  kernel, iterations=1).astype(\"uint8\") ## smaller\n",
    "\n",
    "    dilation_diff = dilate_mask - medullary_mask\n",
    "    erosion_diff  = medullary_mask - erode_mask\n",
    "    cmj_mask = dilation_diff + erosion_diff\n",
    "    tifffile.imwrite(os.path.join(img_dir, cmj_name), cmj_mask)\n",
    "    \n",
    "    ## Remove CMJ from medulla and cortex\n",
    "    medulla_sans_cmj = medullary_mask - erosion_diff\n",
    "    tifffile.imwrite(os.path.join(img_dir, \"medulla_mask_sans_cmj.tif\"), medulla_sans_cmj) \n",
    "\n",
    "    whole_lobe_mask = tifffile.imread(os.path.join(img_dir, whole_lobe_name)).astype(\"uint8\")\n",
    "    whole_lobe_mask = make_one_binary(whole_lobe_mask)\n",
    "        ## I never defined a cortical mask, only a whole lobe mask \n",
    "    cortex_sans_cmj  = whole_lobe_mask - dilate_mask \n",
    "    tifffile.imwrite(os.path.join(img_dir, \"cortex_mask_sans_cmj.tif\"), cortex_sans_cmj)\n",
    "\n",
    "    return None\n",
    "\n",
    "\n",
    "def make_tissue_region_mask(img_dir           : str, \n",
    "                            cortex_mask_name  : str,\n",
    "                            medulla_mask_name : str,\n",
    "                            cmj_mask_name     : str,\n",
    "                            region_out_name   : str):\n",
    "    ## Load images \n",
    "    cortex_mask  = tifffile.imread(os.path.join(img_dir, cortex_mask_name)).astype(\"uint8\")\n",
    "    medulla_mask = tifffile.imread(os.path.join(img_dir, medulla_mask_name)).astype(\"uint8\")\n",
    "    cmj_mask     = tifffile.imread(os.path.join(img_dir, cmj_mask_name)).astype(\"uint8\")\n",
    "\n",
    "    ## Assign each tissue region a different value (background : 0, cortex : 1, cmj : 2, medulla : 3) \n",
    "    region_mask = cortex_mask + (cmj_mask * np.uint8(2)) +  (medulla_mask * np.uint8(3))\n",
    "    tifffile.imwrite(os.path.join(img_dir, region_out_name), region_mask)\n",
    "\n",
    "\n",
    "def add_tissue_region(img_dir : str, img_name : str, region_name : str, out_name : str) -> None:\n",
    "    img = tifffile.imread(os.path.join(img_dir, img_name))\n",
    "    region_mask = tifffile.imread(os.path.join(img_dir, region_name))\n",
    "\n",
    "    img = np.concatenate((img, region_mask[np.newaxis,...]))\n",
    "\n",
    "    tifffile.imwrite(os.path.join(img_dir, out_name), img)\n",
    "    return None\n",
    "\n",
    "\n",
    "def add_tissue_to_markers_df(img_dir : str, markers_name : str, out_name : str) -> None:\n",
    "    markers_df = pd.read_csv(os.path.join(img_dir , markers_name))\n",
    "    tissue_df  = pd.DataFrame({\"cycle\" : [0], \"marker_name\" : [\"tissue\"], \"row_num\" : [markers_df.shape[0]]})\n",
    "    markers_df = pd.concat([markers_df, tissue_df])\n",
    "    markers_df.to_csv(os.path.join(img_dir, out_name), index= False)\n",
    "                      \n",
    "    return None "
   ]
  },
  {
   "cell_type": "markdown",
   "metadata": {},
   "source": [
    "## Run images\n",
    "\n",
    "CMJ distance of 100 $\\mu m$ on either side of the hand-drawn cortical-medullary boundary. \n",
    "\n",
    "Inspired by Lei et al., 2011 (https://doi.org/10.1084/jem.20102327)"
   ]
  },
  {
   "cell_type": "code",
   "execution_count": null,
   "metadata": {},
   "outputs": [],
   "source": [
    "raw_dir= \"/stor/scratch/Ehrlich/Users/John/histocytometry/raw_images/images_2023-08-10\"\n",
    "img_dirs= [os.path.join(raw_dir, img_dir) for img_dir in os.listdir(raw_dir) if re.search(\"_[A-D]$\", img_dir)] \n",
    "img_dirs.sort()"
   ]
  },
  {
   "cell_type": "code",
   "execution_count": null,
   "metadata": {},
   "outputs": [],
   "source": [
    "## In general, this code could be faster by making a monolith function that doesn't read in images multiple times. \n",
    "    ## I've traded speed for simplicity for now.\n",
    "cmj_distance = 50\n",
    "for img_dir in img_dirs:\n",
    "    print(f\"Starting {img_dir}\")\n",
    "\n",
    "    mask_cmj(img_dir          = img_dir,\n",
    "             medulla_name     = \"cleaned_medulla_mask.tif\",\n",
    "             whole_lobe_name  = \"whole_lobe_mask.tif\",\n",
    "             cmj_name         = \"cmj_mask.tif\",\n",
    "             cmj_distance     = cmj_distance,\n",
    "             XY_resolution    = 0.479)\n",
    "    \n",
    "    make_tissue_region_mask(img_dir           = img_dir, \n",
    "                            cortex_mask_name  = \"cortex_mask_sans_cmj.tif\",\n",
    "                            medulla_mask_name = \"medulla_mask_sans_cmj.tif\",\n",
    "                            cmj_mask_name     = \"cmj_mask.tif\",\n",
    "                            region_out_name   = f\"thymus_regions_{cmj_distance}um.tif\")\n",
    "    \n",
    "    add_tissue_region(img_dir     = img_dir,\n",
    "                      img_name    = \"reordered_image.ome.tif\",\n",
    "                      region_name = f\"thymus_regions_{cmj_distance}um.tif\",\n",
    "                      out_name    = f\"reordered_image_w_thymus_regions_{cmj_distance}um.ome.tif\")\n",
    "    \n",
    "    add_tissue_to_markers_df(img_dir      = img_dir, \n",
    "                             markers_name = \"markers.csv\",\n",
    "                             out_name     = f\"markers_tissue_{cmj_distance}um.csv\")"
   ]
  },
  {
   "cell_type": "markdown",
   "metadata": {},
   "source": [
    "### Making boundary line on either side of CMJ for manuscript ROIs"
   ]
  },
  {
   "cell_type": "code",
   "execution_count": null,
   "metadata": {},
   "outputs": [],
   "source": [
    "def draw_cmj_boundaries(img_dir, medulla_name, cmj_name, pixel_distance, out_name):\n",
    "    ## Inner CMJ boundary\n",
    "    medullary_mask = tifffile.imread(os.path.join(img_dir, medulla_name)).astype(\"uint8\")\n",
    "    medullary_mask = make_one_binary(medullary_mask)\n",
    "    \n",
    "    kernel_size = int(2 * pixel_distance + 1)\n",
    "    kernel      = np.ones((kernel_size, kernel_size), np.uint8)\n",
    "\n",
    "    dilate_mask = cv2.dilate(medullary_mask, kernel, iterations=1).astype(\"uint8\") ## larger\n",
    "    erode_mask  = cv2.erode(medullary_mask,  kernel, iterations=1).astype(\"uint8\") ## smaller\n",
    "\n",
    "    dilation_diff = dilate_mask - medullary_mask\n",
    "    erosion_diff  = medullary_mask - erode_mask\n",
    "    thin_inner_line_mask = dilation_diff + erosion_diff\n",
    "\n",
    "    ## Outer CMJ boundary\n",
    "    cmj_mask = tifffile.imread(os.path.join(img_dir, cmj_name)).astype(\"uint8\")\n",
    "    cmj_mask = make_one_binary(cmj_mask)\n",
    "    cmj_medulla_mask = medullary_mask + cmj_mask\n",
    "\n",
    "    dilate_mask = cv2.dilate(cmj_medulla_mask, kernel, iterations=1).astype(\"uint8\") ## larger\n",
    "    erode_mask  = cv2.erode(cmj_medulla_mask,  kernel, iterations=1).astype(\"uint8\") ## smaller\n",
    "\n",
    "    dilation_diff = dilate_mask - cmj_medulla_mask\n",
    "    erosion_diff  = cmj_medulla_mask - erode_mask\n",
    "    thin_outer_line_mask = dilation_diff + erosion_diff\n",
    "\n",
    "    ## Combined output\n",
    "    thin_line_mask = thin_inner_line_mask + thin_outer_line_mask\n",
    "    tifffile.imwrite(os.path.join(img_dir, out_name), thin_line_mask)"
   ]
  },
  {
   "cell_type": "code",
   "execution_count": null,
   "metadata": {},
   "outputs": [],
   "source": [
    "pixel_distance= 8\n",
    "    # I need to run 2 as well \n",
    "for img_dir in img_dirs:\n",
    "    draw_cmj_boundaries(img_dir = img_dir, \n",
    "                        medulla_name = \"medulla_mask_sans_cmj.tif\", \n",
    "                        cmj_name     = \"cmj_mask.tif\", \n",
    "                        pixel_distance = pixel_distance, \n",
    "                        out_name       = f\"cmj_boundaries_{pixel_distance}pixels.tif\")\n",
    "    print(f\"Done w/ {img_dir}\")"
   ]
  }
 ],
 "metadata": {
  "kernelspec": {
   "display_name": "Python 3 (ipykernel)",
   "language": "python",
   "name": "python3"
  },
  "language_info": {
   "codemirror_mode": {
    "name": "ipython",
    "version": 3
   },
   "file_extension": ".py",
   "mimetype": "text/x-python",
   "name": "python",
   "nbconvert_exporter": "python",
   "pygments_lexer": "ipython3",
   "version": "3.7.16"
  }
 },
 "nbformat": 4,
 "nbformat_minor": 2
}
