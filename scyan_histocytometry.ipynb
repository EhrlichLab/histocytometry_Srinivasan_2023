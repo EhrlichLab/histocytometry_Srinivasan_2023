{
 "cells": [
  {
   "attachments": {},
   "cell_type": "markdown",
   "metadata": {},
   "source": [
    "# Scyan histocytometry Images"
   ]
  },
  {
   "cell_type": "code",
   "execution_count": 1,
   "metadata": {},
   "outputs": [
    {
     "name": "stderr",
     "output_type": "stream",
     "text": [
      "/stor/home/jfm2773/anaconda3/envs/scyan/lib/python3.9/site-packages/tqdm/auto.py:22: TqdmWarning: IProgress not found. Please update jupyter and ipywidgets. See https://ipywidgets.readthedocs.io/en/stable/user_install.html\n",
      "  from .autonotebook import tqdm as notebook_tqdm\n",
      "Global seed set to 0\n"
     ]
    }
   ],
   "source": [
    "import scyan\n",
    "import pandas as pd\n",
    "import os\n",
    "import matplotlib\n",
    "import numpy as np\n",
    "import anndata\n",
    "%matplotlib inline\n",
    "import re \n",
    "from pathlib import Path\n",
    "## Run w/ scyan conda environment "
   ]
  },
  {
   "attachments": {},
   "cell_type": "markdown",
   "metadata": {},
   "source": [
    "I want to automate the simple clustering on the histocytometry images to free up time for Colin and Jayashree as well as reduce delays in iterating results."
   ]
  },
  {
   "attachments": {},
   "cell_type": "markdown",
   "metadata": {},
   "source": [
    "## Concatenating data files together\n",
    "I will have to make a different combined data frame for each group of four proteins."
   ]
  },
  {
   "cell_type": "code",
   "execution_count": null,
   "metadata": {},
   "outputs": [],
   "source": [
    "CCR4_image_dir = \"/stor/scratch/Ehrlich/Users/John/CCR4/T_cell_zone\"\n",
    "csv_paths      = [csv_path for csv_path in Path(CCR4_image_dir).rglob('*_mask.csv*')]\n",
    "mask_df_list   = [None] * len(csv_paths)\n",
    "\n",
    "for i in range(0, len(csv_paths)):\n",
    "    csv_path = csv_paths[i]\n",
    "    mask_df_list[i] = pd.read_csv(csv_path)\n",
    "    # mask_df_list[i][\"experiment\"] = re.sub(\".*/sub_\", \"\", str(csv_path))\n",
    "    mask_df_list[i][\"experiment\"] = str(csv_path)\n",
    "\n",
    "combined_mask_df = pd.concat(mask_df_list, axis= 0)\n",
    "codes, uniques = pd.factorize(combined_mask_df.experiment)\n",
    "    ## uniques is what I'll need to identify which cluster is which experiment later\n",
    "combined_mask_df.experiment = codes\n",
    "combined_mask_path = os.path.join(CCR4_image_dir, \"data/combined_mask_df.csv\")\n",
    "combined_mask_df.to_csv(combined_mask_path, index= False)\n",
    "experiment_dummy = pd.DataFrame({\"experiment\" : np.unique(codes),\n",
    "                                \"exp_name\"    : uniques})\n",
    "experiment_dummy.to_csv(os.path.join(CCR4_image_dir, \"data/experiment_dummy.csv\"), index= False)"
   ]
  },
  {
   "attachments": {},
   "cell_type": "markdown",
   "metadata": {},
   "source": [
    "## Convert df to adata"
   ]
  },
  {
   "cell_type": "code",
   "execution_count": null,
   "metadata": {},
   "outputs": [],
   "source": [
    "adata = anndata.AnnData(combined_mask_df)\n",
    "adata.obs = adata[:, [\"CellID\", \"X_centroid\", \"Y_centroid\", \"experiment\"]].to_df()\n",
    "adata = adata[:, [\"CD8\", \"CD4\", \"B220\"]]\n",
    "                       \n",
    "print(f\"Created anndata object with {adata.n_obs} cells and {adata.n_vars} markers.\\n\\n-> The markers names are: {', '.join(adata.var_names)}\\n-> The non-marker names are: {', '.join(adata.obs.columns)}\")"
   ]
  },
  {
   "cell_type": "code",
   "execution_count": null,
   "metadata": {},
   "outputs": [],
   "source": [
    "## I should try running scyan with the scale_asinh_scale normalization data and their recommended data. \n",
    "## I can then compare which is better. I'm not sure how that affects the scyan input. I should read their paper in more depth. "
   ]
  },
  {
   "cell_type": "code",
   "execution_count": null,
   "metadata": {},
   "outputs": [],
   "source": [
    "## Process data\n",
    "is_cytof = False\n",
    "\n",
    "if is_cytof: # we recommend asinh for CyTOF data \n",
    "    scyan.preprocess.asinh_transform(adata)\n",
    "else: # we recommend auto_logicle for flow or spectral flow\n",
    "    scyan.preprocess.auto_logicle_transform(adata)\n",
    "        ## Some transformation designed for flow: https://pubmed.ncbi.nlm.nih.gov/16604519/\n",
    "    \n",
    "## The flowsom paper uses asinh for low number of markers (~7)\n",
    "scyan.preprocess.scale(adata)"
   ]
  }
 ],
 "metadata": {
  "kernelspec": {
   "display_name": "scyan",
   "language": "python",
   "name": "python3"
  },
  "language_info": {
   "codemirror_mode": {
    "name": "ipython",
    "version": 3
   },
   "file_extension": ".py",
   "mimetype": "text/x-python",
   "name": "python",
   "nbconvert_exporter": "python",
   "pygments_lexer": "ipython3",
   "version": "3.9.16"
  },
  "orig_nbformat": 4
 },
 "nbformat": 4,
 "nbformat_minor": 2
}
