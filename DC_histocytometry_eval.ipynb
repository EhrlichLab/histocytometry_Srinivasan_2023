{
 "cells": [
  {
   "attachments": {},
   "cell_type": "markdown",
   "metadata": {},
   "source": [
    "# Running histocytometry of DC images from Cellpose 2.0 using a script\n",
    "\n",
    "Use cellpose2 conda environment"
   ]
  },
  {
   "cell_type": "code",
   "execution_count": 1,
   "metadata": {},
   "outputs": [
    {
     "name": "stderr",
     "output_type": "stream",
     "text": [
      "/stor/home/jfm2773/.local/lib/python3.8/site-packages/tqdm/auto.py:22: TqdmWarning: IProgress not found. Please update jupyter and ipywidgets. See https://ipywidgets.readthedocs.io/en/stable/user_install.html\n",
      "  from .autonotebook import tqdm as notebook_tqdm\n"
     ]
    }
   ],
   "source": [
    "import numpy as np\n",
    "import time, os, sys\n",
    "from urllib.parse import urlparse\n",
    "import matplotlib.pyplot as plt\n",
    "import matplotlib as mpl\n",
    "%matplotlib inline\n",
    "mpl.rcParams['figure.dpi'] = 300\n",
    "import cellpose \n",
    "from cellpose import utils, io, models\n",
    "import re\n",
    "import tifffile\n",
    "from deco import concurrent, synchronized"
   ]
  },
  {
   "cell_type": "markdown",
   "metadata": {},
   "source": [
    "## Functions"
   ]
  },
  {
   "cell_type": "code",
   "execution_count": 13,
   "metadata": {},
   "outputs": [],
   "source": [
    "@concurrent\n",
    "def segment_DCs_w_cellpose(img_dir, \n",
    "                           user_model, \n",
    "                           img_name               = \"reordered_image.ome.tif\", \n",
    "                           cellpose2_channels     = [2,1], \n",
    "                           DAPI_membrane_channels = [0,2]) -> None:\n",
    "    img     = io.imread(os.path.join(img_dir, img_name))\n",
    "    sub_img = img[DAPI_membrane_channels,...]    \n",
    "        ## Subsetting image to get the membrane and DAPI channel\n",
    "        ## DAPI corresponds to red (1),\n",
    "        ## CD11c corresponds to green (2) \n",
    "    cellpose2_channels = [2,1]\n",
    "    masks, flows, styles = user_model.eval(sub_img, channels= cellpose2_channels)\n",
    "    print(\"Done with modeling!\")\n",
    "\n",
    "    tifffile.imwrite(os.path.join(img_dir, \"cp2_mask.tif\"), masks)\n",
    "\n",
    "    ## Do I want to make the overlaid mask a binary mask?\n",
    "    masks[masks > 0] = 1\n",
    "    masks.astype(\"uint8\")\n",
    "    masks = masks[np.newaxis, ...]\n",
    "    img_w_cp2_masks = np.concatenate((img, masks))\n",
    "    tifffile.imwrite(os.path.join(img_dir, \"reordered_image_w_cp2_mask.ome.tif\"), img_w_cp2_masks)\n",
    "    print(\"Done saving images!\")\n",
    "\n",
    "    return None\n",
    "\n",
    "@synchronized \n",
    "def parallelize_segment_DCs(img_dirs, \n",
    "                            user_model, \n",
    "                            img_name               = \"reordered_image.ome.tif\", \n",
    "                            cellpose2_channels     = [2,1], \n",
    "                            DAPI_membrane_channels = [0,2]) -> None: \n",
    "    \n",
    "    for img_dir in img_dirs:\n",
    "        segment_DCs_w_cellpose(\n",
    "            img_dir                = img_dir, \n",
    "            user_model             = user_model\n",
    "        )\n",
    "        \n",
    "    return None"
   ]
  },
  {
   "attachments": {},
   "cell_type": "markdown",
   "metadata": {},
   "source": [
    "## DC Segmentation"
   ]
  },
  {
   "cell_type": "code",
   "execution_count": 14,
   "metadata": {},
   "outputs": [],
   "source": [
    "## Load CD11c+ images\n",
    "raw_dir = \"/stor/scratch/Ehrlich/Users/John/histocytometry/raw_images/images_2023-08-10\"\n",
    "CD11c_dirs = [os.path.join(raw_dir, img_dir) for img_dir in os.listdir(raw_dir) if re.search(\"_[A-D]$\", img_dir) and not re.search(\"MerTK\", img_dir)]\n",
    "img_name = \"reordered_image.ome.tif\""
   ]
  },
  {
   "cell_type": "code",
   "execution_count": 15,
   "metadata": {},
   "outputs": [],
   "source": [
    "## Load-in user trained model\n",
    "model_path = \"/stor/scratch/Ehrlich/Users/John/histocytometry/raw_images/images_2023-08-10/TN2_DAPI_CD11c_stringent_v1_training_images/models/TN2_DAPI_CD11c_stringent_v7\"\n",
    "user_model = models.CellposeModel(pretrained_model= model_path)"
   ]
  },
  {
   "cell_type": "code",
   "execution_count": 10,
   "metadata": {},
   "outputs": [],
   "source": [
    "img_dir = CD11c_dirs[0]"
   ]
  },
  {
   "cell_type": "code",
   "execution_count": 11,
   "metadata": {},
   "outputs": [],
   "source": [
    "img_name = \"reordered_image.ome.tif\"\n",
    "cellpose2_channels     = [2,1]\n",
    "DAPI_membrane_channels = [0,2]"
   ]
  },
  {
   "cell_type": "code",
   "execution_count": 12,
   "metadata": {},
   "outputs": [
    {
     "name": "stdout",
     "output_type": "stream",
     "text": [
      "(4, 17454, 13103)\n",
      "<class 'list'>\n"
     ]
    }
   ],
   "source": [
    "img = io.imread(os.path.join(img_dir, img_name))\n",
    "print(img.shape)\n",
    "print(type(DAPI_membrane_channels))\n",
    "sub_img = img[DAPI_membrane_channels,...]    "
   ]
  },
  {
   "cell_type": "code",
   "execution_count": 16,
   "metadata": {},
   "outputs": [
    {
     "ename": "KeyboardInterrupt",
     "evalue": "",
     "output_type": "error",
     "traceback": [
      "\u001b[0;31m---------------------------------------------------------------------------\u001b[0m",
      "\u001b[0;31mKeyboardInterrupt\u001b[0m                         Traceback (most recent call last)",
      "\u001b[1;32m/stor/work/Ehrlich/Users/John/projects/misc/histocytometry/scripts/DC_histocytometry_eval.ipynb Cell 11\u001b[0m in \u001b[0;36m1\n\u001b[0;32m----> <a href='vscode-notebook-cell://ssh-remote%2Blivecomp02.ccbb.utexas.edu/stor/work/Ehrlich/Users/John/projects/misc/histocytometry/scripts/DC_histocytometry_eval.ipynb#X23sdnNjb2RlLXJlbW90ZQ%3D%3D?line=0'>1</a>\u001b[0m parallelize_segment_DCs(\n\u001b[1;32m      <a href='vscode-notebook-cell://ssh-remote%2Blivecomp02.ccbb.utexas.edu/stor/work/Ehrlich/Users/John/projects/misc/histocytometry/scripts/DC_histocytometry_eval.ipynb#X23sdnNjb2RlLXJlbW90ZQ%3D%3D?line=1'>2</a>\u001b[0m     img_dirs   \u001b[39m=\u001b[39m CD11c_dirs, \n\u001b[1;32m      <a href='vscode-notebook-cell://ssh-remote%2Blivecomp02.ccbb.utexas.edu/stor/work/Ehrlich/Users/John/projects/misc/histocytometry/scripts/DC_histocytometry_eval.ipynb#X23sdnNjb2RlLXJlbW90ZQ%3D%3D?line=2'>3</a>\u001b[0m     user_model \u001b[39m=\u001b[39m user_model\n\u001b[1;32m      <a href='vscode-notebook-cell://ssh-remote%2Blivecomp02.ccbb.utexas.edu/stor/work/Ehrlich/Users/John/projects/misc/histocytometry/scripts/DC_histocytometry_eval.ipynb#X23sdnNjb2RlLXJlbW90ZQ%3D%3D?line=3'>4</a>\u001b[0m )\n",
      "File \u001b[0;32m~/anaconda3/envs/cellpose2/lib/python3.8/site-packages/deco/conc.py:62\u001b[0m, in \u001b[0;36msynchronized.__call__\u001b[0;34m(self, *args, **kwargs)\u001b[0m\n\u001b[1;32m     60\u001b[0m     exec(out, scope)\n\u001b[1;32m     61\u001b[0m     \u001b[39mself\u001b[39m\u001b[39m.\u001b[39mf \u001b[39m=\u001b[39m scope[\u001b[39mself\u001b[39m\u001b[39m.\u001b[39morig_f\u001b[39m.\u001b[39m\u001b[39m__name__\u001b[39m]\n\u001b[0;32m---> 62\u001b[0m \u001b[39mreturn\u001b[39;00m \u001b[39mself\u001b[39;49m\u001b[39m.\u001b[39;49mf(\u001b[39m*\u001b[39;49margs, \u001b[39m*\u001b[39;49m\u001b[39m*\u001b[39;49mkwargs)\n",
      "File \u001b[0;32m<string>:2\u001b[0m, in \u001b[0;36mparallelize_segment_DCs\u001b[0;34m(img_dirs, user_model, img_name, cellpose2_channels, DAPI_membrane_channels)\u001b[0m\n",
      "File \u001b[0;32m~/anaconda3/envs/cellpose2/lib/python3.8/site-packages/deco/conc.py:139\u001b[0m, in \u001b[0;36mconcurrent.wait\u001b[0;34m(self)\u001b[0m\n\u001b[1;32m    137\u001b[0m results \u001b[39m=\u001b[39m []\n\u001b[1;32m    138\u001b[0m \u001b[39mwhile\u001b[39;00m \u001b[39mself\u001b[39m\u001b[39m.\u001b[39mresults:\n\u001b[0;32m--> 139\u001b[0m     result, operations \u001b[39m=\u001b[39m \u001b[39mself\u001b[39;49m\u001b[39m.\u001b[39;49mresults\u001b[39m.\u001b[39;49mpop()\u001b[39m.\u001b[39;49mget()\n\u001b[1;32m    140\u001b[0m     \u001b[39mself\u001b[39m\u001b[39m.\u001b[39mapply_operations(operations)\n\u001b[1;32m    141\u001b[0m     results\u001b[39m.\u001b[39mappend(result)\n",
      "File \u001b[0;32m~/anaconda3/envs/cellpose2/lib/python3.8/site-packages/deco/conc.py:159\u001b[0m, in \u001b[0;36mConcurrentResult.get\u001b[0;34m(self)\u001b[0m\n\u001b[1;32m    158\u001b[0m \u001b[39mdef\u001b[39;00m \u001b[39mget\u001b[39m(\u001b[39mself\u001b[39m):\n\u001b[0;32m--> 159\u001b[0m     \u001b[39mreturn\u001b[39;00m \u001b[39mself\u001b[39;49m\u001b[39m.\u001b[39;49masync_result\u001b[39m.\u001b[39;49mget(\u001b[39m3e+6\u001b[39;49m)\n",
      "File \u001b[0;32m~/anaconda3/envs/cellpose2/lib/python3.8/multiprocessing/pool.py:765\u001b[0m, in \u001b[0;36mApplyResult.get\u001b[0;34m(self, timeout)\u001b[0m\n\u001b[1;32m    764\u001b[0m \u001b[39mdef\u001b[39;00m \u001b[39mget\u001b[39m(\u001b[39mself\u001b[39m, timeout\u001b[39m=\u001b[39m\u001b[39mNone\u001b[39;00m):\n\u001b[0;32m--> 765\u001b[0m     \u001b[39mself\u001b[39;49m\u001b[39m.\u001b[39;49mwait(timeout)\n\u001b[1;32m    766\u001b[0m     \u001b[39mif\u001b[39;00m \u001b[39mnot\u001b[39;00m \u001b[39mself\u001b[39m\u001b[39m.\u001b[39mready():\n\u001b[1;32m    767\u001b[0m         \u001b[39mraise\u001b[39;00m \u001b[39mTimeoutError\u001b[39;00m\n",
      "File \u001b[0;32m~/anaconda3/envs/cellpose2/lib/python3.8/multiprocessing/pool.py:762\u001b[0m, in \u001b[0;36mApplyResult.wait\u001b[0;34m(self, timeout)\u001b[0m\n\u001b[1;32m    761\u001b[0m \u001b[39mdef\u001b[39;00m \u001b[39mwait\u001b[39m(\u001b[39mself\u001b[39m, timeout\u001b[39m=\u001b[39m\u001b[39mNone\u001b[39;00m):\n\u001b[0;32m--> 762\u001b[0m     \u001b[39mself\u001b[39;49m\u001b[39m.\u001b[39;49m_event\u001b[39m.\u001b[39;49mwait(timeout)\n",
      "File \u001b[0;32m~/anaconda3/envs/cellpose2/lib/python3.8/threading.py:558\u001b[0m, in \u001b[0;36mEvent.wait\u001b[0;34m(self, timeout)\u001b[0m\n\u001b[1;32m    556\u001b[0m signaled \u001b[39m=\u001b[39m \u001b[39mself\u001b[39m\u001b[39m.\u001b[39m_flag\n\u001b[1;32m    557\u001b[0m \u001b[39mif\u001b[39;00m \u001b[39mnot\u001b[39;00m signaled:\n\u001b[0;32m--> 558\u001b[0m     signaled \u001b[39m=\u001b[39m \u001b[39mself\u001b[39;49m\u001b[39m.\u001b[39;49m_cond\u001b[39m.\u001b[39;49mwait(timeout)\n\u001b[1;32m    559\u001b[0m \u001b[39mreturn\u001b[39;00m signaled\n",
      "File \u001b[0;32m~/anaconda3/envs/cellpose2/lib/python3.8/threading.py:306\u001b[0m, in \u001b[0;36mCondition.wait\u001b[0;34m(self, timeout)\u001b[0m\n\u001b[1;32m    304\u001b[0m \u001b[39melse\u001b[39;00m:\n\u001b[1;32m    305\u001b[0m     \u001b[39mif\u001b[39;00m timeout \u001b[39m>\u001b[39m \u001b[39m0\u001b[39m:\n\u001b[0;32m--> 306\u001b[0m         gotit \u001b[39m=\u001b[39m waiter\u001b[39m.\u001b[39;49macquire(\u001b[39mTrue\u001b[39;49;00m, timeout)\n\u001b[1;32m    307\u001b[0m     \u001b[39melse\u001b[39;00m:\n\u001b[1;32m    308\u001b[0m         gotit \u001b[39m=\u001b[39m waiter\u001b[39m.\u001b[39macquire(\u001b[39mFalse\u001b[39;00m)\n",
      "\u001b[0;31mKeyboardInterrupt\u001b[0m: "
     ]
    }
   ],
   "source": [
    "parallelize_segment_DCs(\n",
    "    img_dirs   = CD11c_dirs, \n",
    "    user_model = user_model\n",
    ") "
   ]
  },
  {
   "cell_type": "code",
   "execution_count": null,
   "metadata": {},
   "outputs": [],
   "source": [
    "for img_dir in img_dirs:\n",
    "\n",
    "    img = io.imread(os.path.join(img_dir, img_name))\n",
    "    sub_img = img[[0,2],...]    \n",
    "        ## Subsetting image to get the membrane and DAPI channel\n",
    "        ## DAPI corresponds to red (1),\n",
    "        ## CD11c corresponds to green (2) \n",
    "            ## I don't love this representation, but this is how they've hardcoded it. \n",
    "    cellpose2_channels = [2,1]\n",
    "    masks, flows, styles, diams = user_model.eval(sub_img, channels= cellpose2_channels)\n",
    "        ## The diaemeter will be loaded from the custom model.\n",
    "        ## Channel 2 is the green representing CD11c (or CD63)\n",
    "        ## Channel 1 is the red representing DAPI\n",
    "\n",
    "    # save results so you can load in gui\n",
    "    io.masks_flows_to_seg(img, masks, flows, diams, os.path.join(img_dir, \"reordered_image_gui_mask\"), cellpose2_channels)\n",
    "\n",
    "    # save results \n",
    "    io.save_masks(\n",
    "        images     = img, \n",
    "        masks      = masks, \n",
    "        flows      = flows, \n",
    "        file_names = os.path.join(img_dir, \"save_masks_output.tif\"), \n",
    "        tif        = True\n",
    "    )\n",
    "    \n",
    "    ## \n",
    "    cellpose.plot.outline_view(img0, maski, color=[1, 0, 0], mode='inner')"
   ]
  },
  {
   "cell_type": "code",
   "execution_count": null,
   "metadata": {},
   "outputs": [],
   "source": [
    "print(type(masks))\n",
    "print(masks.dtype)\n",
    "print(masks.shape)"
   ]
  },
  {
   "cell_type": "code",
   "execution_count": 3,
   "metadata": {},
   "outputs": [
    {
     "ename": "NameError",
     "evalue": "name 'plot' is not defined",
     "output_type": "error",
     "traceback": [
      "\u001b[0;31m---------------------------------------------------------------------------\u001b[0m",
      "\u001b[0;31mNameError\u001b[0m                                 Traceback (most recent call last)",
      "\u001b[1;32m/stor/work/Ehrlich/Users/John/projects/misc/histocytometry/scripts/DC_histocytometry_eval.ipynb Cell 7\u001b[0m in \u001b[0;36m2\n\u001b[1;32m      <a href='vscode-notebook-cell://ssh-remote%2Blivecomp02.ccbb.utexas.edu/stor/work/Ehrlich/Users/John/projects/misc/histocytometry/scripts/DC_histocytometry_eval.ipynb#W6sdnNjb2RlLXJlbW90ZQ%3D%3D?line=0'>1</a>\u001b[0m \u001b[39m# plot image with masks overlaid\u001b[39;00m\n\u001b[0;32m----> <a href='vscode-notebook-cell://ssh-remote%2Blivecomp02.ccbb.utexas.edu/stor/work/Ehrlich/Users/John/projects/misc/histocytometry/scripts/DC_histocytometry_eval.ipynb#W6sdnNjb2RlLXJlbW90ZQ%3D%3D?line=1'>2</a>\u001b[0m mask_RGB \u001b[39m=\u001b[39m plot\u001b[39m.\u001b[39mmask_overlay(dat[\u001b[39m'\u001b[39m\u001b[39mimg\u001b[39m\u001b[39m'\u001b[39m], dat[\u001b[39m'\u001b[39m\u001b[39mmasks\u001b[39m\u001b[39m'\u001b[39m],\n\u001b[1;32m      <a href='vscode-notebook-cell://ssh-remote%2Blivecomp02.ccbb.utexas.edu/stor/work/Ehrlich/Users/John/projects/misc/histocytometry/scripts/DC_histocytometry_eval.ipynb#W6sdnNjb2RlLXJlbW90ZQ%3D%3D?line=2'>3</a>\u001b[0m                         colors\u001b[39m=\u001b[39mnp\u001b[39m.\u001b[39marray(dat[\u001b[39m'\u001b[39m\u001b[39mcolors\u001b[39m\u001b[39m'\u001b[39m]))\n\u001b[1;32m      <a href='vscode-notebook-cell://ssh-remote%2Blivecomp02.ccbb.utexas.edu/stor/work/Ehrlich/Users/John/projects/misc/histocytometry/scripts/DC_histocytometry_eval.ipynb#W6sdnNjb2RlLXJlbW90ZQ%3D%3D?line=4'>5</a>\u001b[0m \u001b[39m## I could co-opt this code to plot the cell types on images if I replace the dat['colors'] with the corresponding cell type to each cell. \u001b[39;00m\n\u001b[1;32m      <a href='vscode-notebook-cell://ssh-remote%2Blivecomp02.ccbb.utexas.edu/stor/work/Ehrlich/Users/John/projects/misc/histocytometry/scripts/DC_histocytometry_eval.ipynb#W6sdnNjb2RlLXJlbW90ZQ%3D%3D?line=5'>6</a>\u001b[0m \n\u001b[1;32m      <a href='vscode-notebook-cell://ssh-remote%2Blivecomp02.ccbb.utexas.edu/stor/work/Ehrlich/Users/John/projects/misc/histocytometry/scripts/DC_histocytometry_eval.ipynb#W6sdnNjb2RlLXJlbW90ZQ%3D%3D?line=6'>7</a>\u001b[0m \u001b[39m# plot image with outlines overlaid in red\u001b[39;00m\n\u001b[1;32m      <a href='vscode-notebook-cell://ssh-remote%2Blivecomp02.ccbb.utexas.edu/stor/work/Ehrlich/Users/John/projects/misc/histocytometry/scripts/DC_histocytometry_eval.ipynb#W6sdnNjb2RlLXJlbW90ZQ%3D%3D?line=7'>8</a>\u001b[0m segmentation_outline \u001b[39m=\u001b[39m cellpose\u001b[39m.\u001b[39mplot\u001b[39m.\u001b[39moutline_view(img0, maski, color\u001b[39m=\u001b[39m[\u001b[39m1\u001b[39m, \u001b[39m0\u001b[39m, \u001b[39m0\u001b[39m], mode\u001b[39m=\u001b[39m\u001b[39m'\u001b[39m\u001b[39minner\u001b[39m\u001b[39m'\u001b[39m)\n",
      "\u001b[0;31mNameError\u001b[0m: name 'plot' is not defined"
     ]
    }
   ],
   "source": [
    "# plot image with masks overlaid\n",
    "mask_RGB = plot.mask_overlay(dat['img'], dat['masks'],\n",
    "                        colors=np.array(dat['colors']))\n",
    "\n",
    "## I could co-opt this code to plot the cell types on images if I replace the dat['colors'] with the corresponding cell type to each cell. \n",
    "\n",
    "# plot image with outlines overlaid in red\n",
    "segmentation_outline = cellpose.plot.outline_view(img0, maski, color=[1, 0, 0], mode='inner')\n",
    "    ## I don't think this does quite what I want. \n",
    "    ## I should really just find how to get the 2D mask then export that as its own tif then add it to reordred_image.tif"
   ]
  },
  {
   "cell_type": "code",
   "execution_count": null,
   "metadata": {},
   "outputs": [],
   "source": []
  }
 ],
 "metadata": {
  "kernelspec": {
   "display_name": "cellpose2",
   "language": "python",
   "name": "python3"
  },
  "language_info": {
   "codemirror_mode": {
    "name": "ipython",
    "version": 3
   },
   "file_extension": ".py",
   "mimetype": "text/x-python",
   "name": "python",
   "nbconvert_exporter": "python",
   "pygments_lexer": "ipython3",
   "version": "3.8.17"
  },
  "orig_nbformat": 4
 },
 "nbformat": 4,
 "nbformat_minor": 2
}
