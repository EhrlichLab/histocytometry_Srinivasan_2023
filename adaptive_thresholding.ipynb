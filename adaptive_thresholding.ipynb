{
 "cells": [
  {
   "attachments": {},
   "cell_type": "markdown",
   "metadata": {},
   "source": [
    "## Adaptive thresholding of thymus histocytometry images\n",
    "\n",
    "Ken Lau suggested that doing a binary threshold is obviously imperfect. Adaptive thresholding can be done in FIJI, but why do that when I can automate it after struggling with writing it in python and OpenCV.\n",
    "\n",
    "\n",
    "I think the logic is defining a binary mask for each marker then doing the overlay to find cell types. \n",
    "\n",
    "Use Mesmer_pypi conda environment"
   ]
  },
  {
   "cell_type": "code",
   "execution_count": 1,
   "metadata": {},
   "outputs": [],
   "source": [
    "import numpy as np\n",
    "import cv2\n",
    "import os\n",
    "import matplotlib.pyplot as plt\n",
    "import tifffile\n",
    "import pandas as pd\n",
    "import re"
   ]
  },
  {
   "attachments": {},
   "cell_type": "markdown",
   "metadata": {},
   "source": [
    "### Functions"
   ]
  },
  {
   "cell_type": "code",
   "execution_count": 2,
   "metadata": {},
   "outputs": [],
   "source": [
    "def make_adaptive_binary_gate(img_arr, median_kernel_size= 21, adaptive_subtraction= 0, adaptive_kernel_size= 21, morphology_kernel = (15,15)):\n",
    "    num_channels = np.shape(img_arr)[0] \n",
    "    ## tifffile loads in ch x h x w\n",
    "\n",
    "    threshold_list = [None] * (num_channels -1)\n",
    "        ## Removing DAPI from morphological masks\n",
    "\n",
    "    for i in range(1, num_channels):\n",
    "        slice = img_arr[i,...]\n",
    "        \n",
    "        ## OpenCV documentation recommended blurring prior to adaptive thresholding\n",
    "        blurred = cv2.medianBlur(slice, median_kernel_size)\n",
    "\n",
    "        threshold_img = cv2.adaptiveThreshold(blurred, \n",
    "                                              255, \n",
    "                                              cv2.ADAPTIVE_THRESH_GAUSSIAN_C, ## I think Gaussian looks significantly better than mean for cortical images.\n",
    "                                              cv2.THRESH_BINARY, \n",
    "                                              adaptive_kernel_size, \n",
    "                                              adaptive_subtraction)\n",
    "        \n",
    "        kernel = cv2.getStructuringElement(cv2.MORPH_ELLIPSE, morphology_kernel)\n",
    "        morphology_img = cv2.morphologyEx(threshold_img, cv2.MORPH_CLOSE, kernel)\n",
    "\n",
    "        ## Adding channel dimension for concatenation \n",
    "        threshold_list[i-1] = morphology_img[np.newaxis, ...]\n",
    "\n",
    "    adaptive_binary_img = np.concatenate(threshold_list)\n",
    "    return(adaptive_binary_img)\n",
    "\n",
    "## Lauren wants the individual marker adaptive binary gate files. \n",
    "## I could structure this into an ome.tif if that makes sense. \n",
    "\n",
    "def make_cell_type_mask(adaptive_binary_img, cell_type):\n",
    "    img_shape = np.shape(adaptive_binary_img)[1:3]\n",
    "    mask = np.zeros(img_shape)\n",
    "\n",
    "    ## Channel gates assume that channel order matches directory names in /stor/scratch/Ehrlich/Users/John/histocytometry/raw_images \n",
    "        ## See also /stor/work/Ehrlich/Users/John/projects/misc/histocytometry/scripts/scyan_iterative_pipeline.py \n",
    "        ## No DAPI channel for gates \n",
    "    if cell_type == \"aDC2_Sirpa\":\n",
    "        for row in range(img_shape[0]):\n",
    "            for col in range(img_shape[1]):\n",
    "                pixel_val = adaptive_binary_img[:, row, col]\n",
    "                mask[row, col] = np.all(pixel_val == [255,0,255]) | np.all(pixel_val == [255,255,255])\n",
    "        print(pixel_val)\n",
    "    elif cell_type == \"cDC2\":\n",
    "        for row in range(img_shape[0]):\n",
    "            for col in range(img_shape[1]):\n",
    "                pixel_val = adaptive_binary_img[:, row, col]\n",
    "                mask[row, col] = np.all(pixel_val == [0,255,255])\n",
    "        print(pixel_val)\n",
    "    elif cell_type == \"aDC1\":\n",
    "        for row in range(img_shape[0]):\n",
    "            for col in range(img_shape[1]):\n",
    "                pixel_val = adaptive_binary_img[:, row, col]\n",
    "                mask[row, col] = np.all(pixel_val == [255,0,255]) | np.all(pixel_val == [255,255,255])\n",
    "    elif cell_type == \"aDC2_XCR1\":\n",
    "        for row in range(img_shape[0]):\n",
    "            for col in range(img_shape[1]):\n",
    "                pixel_val = adaptive_binary_img[:, row, col]\n",
    "                mask[row, col] = np.all(pixel_val == [0,255,255])\n",
    "    elif cell_type == \"macrophage\":\n",
    "        for row in range(img_shape[0]):\n",
    "            for col in range(img_shape[1]):\n",
    "                pixel_val = adaptive_binary_img[:, row, col]\n",
    "                mask[row, col] = np.all(pixel_val == [255,0,255])\n",
    "    elif cell_type == \"monoDC2\":\n",
    "        for row in range(img_shape[0]):\n",
    "            for col in range(img_shape[1]):\n",
    "                pixel_val = adaptive_binary_img[:, row, col]\n",
    "                mask[row, col] = np.all(pixel_val == [255,255,255])\n",
    "    elif cell_type == \"pDC\":\n",
    "        for row in range(img_shape[0]):\n",
    "            for col in range(img_shape[1]):\n",
    "                pixel_val = adaptive_binary_img[:, row, col]\n",
    "                mask[row, col] = np.all(pixel_val == [255, 0, 255]) | np.all(pixel_val == [255,255,255])\n",
    "    else: \n",
    "        raise ValueError(\"Cell type: \" + cell_type + \" doesn't match hardcoded options\")\n",
    "    \n",
    "    return(mask)    \n",
    "\n",
    "def np_table(arr):\n",
    "    unique_values, counts = np.unique(arr, return_counts=True)\n",
    "    np_table = pd.DataFrame({\"unique_values\" : unique_values,\n",
    "                            \"counts\" : counts})\n",
    "    return(np_table)\n",
    "    \n",
    "\n",
    "def gate_thymus_histocytometry(img_dir, img_name, cell_type, median_kernel_size= 21):\n",
    "    ## I should think about doing kwargs for make_adaptive_binary_img parameters.\n",
    "\n",
    "    img_arr = tifffile.imread(os.path.join(img_dir, img_name))\n",
    "    adaptive_binary_img = make_adaptive_binary_gate(img_arr, median_kernel_size= median_kernel_size)\n",
    "    print(\"Done with binary mask!\")\n",
    "\n",
    "    cell_type_mask = make_cell_type_mask(adaptive_binary_img, cell_type)\n",
    "    cell_type_mask = cell_type_mask * 255\n",
    "        ## Converting 0 and 1 to more dynamic color range.\n",
    "    cell_type_mask = cell_type_mask.astype(\"uint8\")\n",
    "    print(\"Done with cell type mask!\")\n",
    "\n",
    "    print(np_table(cell_type_mask))\n",
    "\n",
    "    ## Make cell type directory for easier use with MCQuant later.\n",
    "    out_path = os.path.join(img_dir, \"cell_type_\" + cell_type)\n",
    "    if not os.path.exists(out_path):\n",
    "        os.mkdir(out_path)\n",
    "\n",
    "    tifffile.imwrite(os.path.join(out_path, cell_type + \"_mask.tif\"), cell_type_mask)\n",
    "\n",
    "        ## I'll run this through MCquant to get the cell count and area \n",
    "        ## I can use the area to filter out garbage \"cells\" and count easier than doing it by hand. \n",
    "            ## There may be an easier way to do this with FIJI.\n"
   ]
  },
  {
   "attachments": {},
   "cell_type": "markdown",
   "metadata": {},
   "source": [
    "## Running thymus histocytometry images\n",
    "### Preparing data"
   ]
  },
  {
   "cell_type": "code",
   "execution_count": 8,
   "metadata": {},
   "outputs": [],
   "source": [
    "raw_dir  = \"/stor/scratch/Ehrlich/Users/John/histocytometry/raw_images\"\n",
    "img_dirs = [os.path.join(raw_dir, my_dir) for my_dir in os.listdir(raw_dir)]\n",
    "\n",
    "DAPI_CD63_CD11c_Sirpa_dirs    = [img_dir for img_dir in img_dirs if re.search(\"DAPI_CD63_CD11c_Sirpa\",   img_dir)]\n",
    "DAPI_CD63_CD11c_XCR1_dirs     = [img_dir for img_dir in img_dirs if re.search(\"DAPI_CD63_CD11c_XCR1\",    img_dir)]\n",
    "DAPI_CD63_CD11c_MerTK_dirs    = [img_dir for img_dir in img_dirs if re.search(\"DAPI_CD63_CD11c_MerTK\",   img_dir)]\n",
    "DAPI_CD63_CD11c_CD14_dirs     = [img_dir for img_dir in img_dirs if re.search(\"DAPI_CD63_CD11c_CD14\",    img_dir)]\n",
    "DAPI_CD63_CD11c_SiglecH_dirs  = [img_dir for img_dir in img_dirs if re.search(\"DAPI_CD63_CD11c_SiglecH\", img_dir)]"
   ]
  },
  {
   "cell_type": "markdown",
   "metadata": {},
   "source": [
    "## Testing kernel"
   ]
  },
  {
   "cell_type": "code",
   "execution_count": 12,
   "metadata": {},
   "outputs": [],
   "source": [
    "## Moving this code out of the way \n",
    "if False:\n",
    "    img_arr= tifffile.imread(os.path.join(raw_dir, \"40x_Cortex_DAPI_CD63_CD11c_XCR1/sub_image.ome.tif\"))\n",
    "    median_kernel_size= 31\n",
    "    adaptive_subtraction= 0\n",
    "    adaptive_kernel_size= 21\n",
    "    morphology_kernel = (15,15)\n",
    "\n",
    "    num_channels = np.shape(img_arr)[0] \n",
    "\n",
    "\n",
    "    threshold_list = [None] * (num_channels -1)\n",
    "            ## Removing DAPI from morphological masks\n",
    "\n",
    "    for i in range(1, num_channels):\n",
    "        slice = img_arr[i,...]\n",
    "            \n",
    "        ## OpenCV documentation recommended blurring prior to adaptive thresholding\n",
    "        blurred = cv2.medianBlur(slice, median_kernel_size)\n",
    "    #     blurred = cv2.GaussianBlur(blurred, (11,11), 0)\n",
    "    #     threshold_img = cv2.bilateralFilter(threshold_img, 9, 10, 10)\n",
    "            \n",
    "        threshold_img = cv2.adaptiveThreshold(blurred, \n",
    "                                                255, \n",
    "                                                cv2.ADAPTIVE_THRESH_GAUSSIAN_C, ## I think Gaussian looks significantly better than mean for cortical images.\n",
    "                                                cv2.THRESH_BINARY, \n",
    "                                                adaptive_kernel_size, \n",
    "                                                adaptive_subtraction)\n",
    "            \n",
    "        kernel = cv2.getStructuringElement(cv2.MORPH_ELLIPSE, morphology_kernel)\n",
    "        morphology_img = cv2.morphologyEx(threshold_img, cv2.MORPH_CLOSE, kernel)\n",
    "\n",
    "        ## Adding channel dimension for concatenation \n",
    "        threshold_list[i-1] = morphology_img\n",
    "\n",
    "        fig, ax = plt.subplots(1, 3, figsize=(15, 15))\n",
    "    ax[0].imshow(threshold_list[0])\n",
    "    ax[1].imshow(threshold_list[1])\n",
    "    ax[2].imshow(threshold_list[2])\n",
    "\n",
    "    plt.show()"
   ]
  },
  {
   "cell_type": "markdown",
   "metadata": {},
   "source": [
    "## Running data"
   ]
  },
  {
   "cell_type": "code",
   "execution_count": 9,
   "metadata": {},
   "outputs": [
    {
     "name": "stdout",
     "output_type": "stream",
     "text": [
      "/stor/scratch/Ehrlich/Users/John/histocytometry/raw_images/20x_pan1_DAPI_CD63_CD11c_Sirpa\n",
      "Done with binary mask!\n",
      "[0 0 0]\n",
      "Done with cell type mask!\n",
      "   unique_values     counts\n",
      "0              0  172041153\n",
      "1            255     643841\n",
      "Done with binary mask!\n",
      "[0 0 0]\n",
      "Done with cell type mask!\n",
      "   unique_values     counts\n",
      "0              0  172556232\n",
      "1            255     128762\n"
     ]
    }
   ],
   "source": [
    "for indiv_dir in DAPI_CD63_CD11c_Sirpa_dirs:\n",
    "    if re.search(\"pan\", indiv_dir):\n",
    "        print(indiv_dir)\n",
    "        gate_thymus_histocytometry(img_dir = indiv_dir, img_name = \"sub_image.ome.tif\", cell_type = \"aDC2_Sirpa\", median_kernel_size= 31)\n",
    "        gate_thymus_histocytometry(img_dir = indiv_dir, img_name = \"sub_image.ome.tif\", cell_type = \"cDC2\",       median_kernel_size= 31)\n",
    "\n",
    "## I'm going to look at the cell type mask with FIJI. I can quantify the cells and filter based on area and circularity of the cell."
   ]
  },
  {
   "cell_type": "code",
   "execution_count": 15,
   "metadata": {},
   "outputs": [
    {
     "name": "stdout",
     "output_type": "stream",
     "text": [
      "/stor/scratch/Ehrlich/Users/John/histocytometry/raw_images/40x_Medulla_DAPI_CD63_CD11c_XCR1\n",
      "Done with binary mask!\n",
      "Done with cell type mask!\n",
      "   unique_values   counts\n",
      "0              0  3794053\n",
      "1            255   400251\n",
      "Done with binary mask!\n",
      "Done with cell type mask!\n",
      "   unique_values   counts\n",
      "0              0  4140488\n",
      "1            255    53816\n",
      "/stor/scratch/Ehrlich/Users/John/histocytometry/raw_images/40x_Cortex_DAPI_CD63_CD11c_XCR1\n",
      "Done with binary mask!\n",
      "Done with cell type mask!\n",
      "   unique_values   counts\n",
      "0              0  3977512\n",
      "1            255   216792\n",
      "Done with binary mask!\n",
      "Done with cell type mask!\n",
      "   unique_values   counts\n",
      "0              0  4161557\n",
      "1            255    32747\n",
      "/stor/scratch/Ehrlich/Users/John/histocytometry/raw_images/20x_pan1_DAPI_CD63_CD11c_XCR1\n",
      "Done with binary mask!\n",
      "Done with cell type mask!\n",
      "   unique_values    counts\n",
      "0              0  86479477\n",
      "1            255   1986706\n",
      "Done with binary mask!\n",
      "Done with cell type mask!\n",
      "   unique_values    counts\n",
      "0              0  87809305\n",
      "1            255    656878\n",
      "/stor/scratch/Ehrlich/Users/John/histocytometry/raw_images/40x_pan_DAPI_CD63_CD11c_XCR1\n",
      "Done with binary mask!\n",
      "Done with cell type mask!\n",
      "   unique_values     counts\n",
      "0              0  609979046\n",
      "1            255   29080055\n",
      "Done with binary mask!\n"
     ]
    }
   ],
   "source": [
    "for indiv_dir in DAPI_CD63_CD11c_XCR1_dirs:\n",
    "    if re.search(\"pan\", indiv_dir):\n",
    "        print(indiv_dir)\n",
    "        gate_thymus_histocytometry(img_dir = indiv_dir, img_name = \"sub_image.ome.tif\", cell_type = \"aDC1\")\n",
    "        gate_thymus_histocytometry(img_dir = indiv_dir, img_name = \"sub_image.ome.tif\", cell_type = \"aDC2_XCR1\")\n",
    "        ## Is this also aDC2? "
   ]
  },
  {
   "cell_type": "code",
   "execution_count": null,
   "metadata": {},
   "outputs": [],
   "source": [
    "for indiv_dir in DAPI_CD63_CD11c_MerTK_dirs:\n",
    "    if re.search(\"pan\", indiv_dir):\n",
    "        print(indiv_dir)\n",
    "        gate_thymus_histocytometry(img_dir = indiv_dir, img_name = \"sub_image.ome.tif\", cell_type = \"macrophage\")"
   ]
  },
  {
   "cell_type": "code",
   "execution_count": null,
   "metadata": {},
   "outputs": [],
   "source": [
    "for indiv_dir in DAPI_CD63_CD11c_CD14_dirs:\n",
    "    if re.search(\"pan\", indiv_dir):\n",
    "        print(indiv_dir)\n",
    "        gate_thymus_histocytometry(img_dir = indiv_dir, img_name = \"sub_image.ome.tif\", cell_type = \"monoDC2\")"
   ]
  },
  {
   "cell_type": "code",
   "execution_count": null,
   "metadata": {},
   "outputs": [],
   "source": [
    "for indiv_dir in DAPI_CD63_CD11c_SiglecH_dirs:\n",
    "    if re.search(\"pan\", indiv_dir):\n",
    "        print(indiv_dir)\n",
    "        gate_thymus_histocytometry(img_dir = indiv_dir, img_name = \"sub_image.ome.tif\", cell_type = \"pDC\")"
   ]
  },
  {
   "cell_type": "code",
   "execution_count": null,
   "metadata": {},
   "outputs": [],
   "source": [
    "## Loop through raw dirs\n",
    "## Loop through cell type directories for each image. \n",
    "## Run MCQuant on each image and cell type to extract the data \n",
    "## Combine cell type csv files \n",
    "## Filter out cells that are below a certain size \n",
    "## Overlay the masks onto the original image. "
   ]
  }
 ],
 "metadata": {
  "kernelspec": {
   "display_name": "Mesmer_pypi",
   "language": "python",
   "name": "python3"
  },
  "language_info": {
   "codemirror_mode": {
    "name": "ipython",
    "version": 3
   },
   "file_extension": ".py",
   "mimetype": "text/x-python",
   "name": "python",
   "nbconvert_exporter": "python",
   "pygments_lexer": "ipython3",
   "version": "3.7.16"
  },
  "orig_nbformat": 4
 },
 "nbformat": 4,
 "nbformat_minor": 2
}
