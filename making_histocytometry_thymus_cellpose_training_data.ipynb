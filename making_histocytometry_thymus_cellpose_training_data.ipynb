{
 "cells": [
  {
   "attachments": {},
   "cell_type": "markdown",
   "metadata": {},
   "source": [
    "# Making_thymus_histocytometry_cellpose2_training_data\n",
    "\n",
    "Regions were hand selected by John. Desired features of training data were medulla, CMJ, cortex, capsule, endothelial vessel, and hotspots. \n",
    "Hand annotation of these should make everything else work fine. \n",
    "\n",
    "All images are segmented based on CD11c, except for the macrophages which used CD63. "
   ]
  },
  {
   "cell_type": "code",
   "execution_count": null,
   "metadata": {},
   "outputs": [],
   "source": [
    "import os \n",
    "import tifffile\n",
    "import numpy as np\n",
    "import re\n",
    "import cv2\n",
    "import matplotlib.pyplot as plt\n",
    "%matplotlib inline\n",
    "## Run using Mesmer_pypi conda environment"
   ]
  },
  {
   "cell_type": "code",
   "execution_count": null,
   "metadata": {},
   "outputs": [],
   "source": [
    "raw_dir = \"/stor/scratch/Ehrlich/Users/John/histocytometry/raw_images/images_2023-08-10\"\n",
    "training_dirs = [os.path.join(raw_dir, img_dir) for img_dir in os.listdir(raw_dir) if re.search(\"_[A-B]$\", img_dir)]\n",
    "training_dirs.sort()\n",
    "\n",
    "for img_dir in training_dirs:\n",
    "    print(img_dir)"
   ]
  },
  {
   "cell_type": "code",
   "execution_count": null,
   "metadata": {},
   "outputs": [],
   "source": [
    "training_dir = \"/stor/scratch/Ehrlich/Users/John/histocytometry/raw_images/images_2023-08-10/cellpose2_training_images_DC_round1\""
   ]
  },
  {
   "attachments": {},
   "cell_type": "markdown",
   "metadata": {},
   "source": [
    "### pDCS"
   ]
  },
  {
   "cell_type": "code",
   "execution_count": null,
   "metadata": {},
   "outputs": [],
   "source": [
    "pDC_dirs=  [img_dir for img_dir in training_dirs if re.search(\"DAPI_B220_CD11c_SiglecH_[A-B]$\", img_dir)]\n",
    "pDC_dirs.sort()\n",
    "\n",
    "pDC_A = tifffile.imread(os.path.join(pDC_dirs[0], \"reordered_image.ome.tif\"))\n",
    "sub_pDC_A = pDC_A[[0,2], 8_000:8_250, 6_000:6_250]\n",
    "tifffile.imwrite(os.path.join(training_dir, \"pDC_A_x8000-8250_y6000-6250.ome.tif\"), sub_pDC_A)\n",
    "\n",
    "pDC_B = tifffile.imread(os.path.join(pDC_dirs[1], \"reordered_image.ome.tif\"))\n",
    "sub_pDC_B = pDC_B[[0,2], 3_000:3_250, 7_000:7_250]\n",
    "tifffile.imwrite(os.path.join(training_dir, \"pDC_B_x3000-3250_y7000-7250.ome.tif\"), sub_pDC_B)"
   ]
  },
  {
   "cell_type": "code",
   "execution_count": null,
   "metadata": {},
   "outputs": [],
   "source": [
    "training_dir = \"/stor/scratch/Ehrlich/Users/John/histocytometry/raw_images/images_2023-08-10/TN2_DAPI_CD11c_stringent_v1_training_images\"\n",
    "pDC_dirs=  [img_dir for img_dir in training_dirs if re.search(\"DAPI_B220_CD11c_SiglecH_[A-B]$\", img_dir)]\n",
    "pDC_dirs.sort()\n",
    "pDC_B = tifffile.imread(os.path.join(pDC_dirs[1], \"reordered_image.ome.tif\"))"
   ]
  },
  {
   "cell_type": "code",
   "execution_count": null,
   "metadata": {},
   "outputs": [],
   "source": [
    "sub_pDC_B = pDC_B[[0,2], 2_000:3_000, 2_000:3_000]\n",
    "tifffile.imwrite(os.path.join(training_dir, \"pDC_B_x2000-3000_y2000-3000.ome.tif\"), sub_pDC_B)"
   ]
  },
  {
   "cell_type": "code",
   "execution_count": null,
   "metadata": {},
   "outputs": [],
   "source": [
    "sub_pDC_B = pDC_B[[0,2], 3_000:3_500, 3_000:3_500]\n",
    "tifffile.imwrite(os.path.join(training_dir, \"pDC_B_x3000-3500_y3000-3500.ome.tif\"), sub_pDC_B)"
   ]
  },
  {
   "cell_type": "code",
   "execution_count": null,
   "metadata": {},
   "outputs": [],
   "source": [
    "sub_pDC_B = pDC_B[[0,2], 6_000:6_500, 6_000:6_500]\n",
    "tifffile.imwrite(os.path.join(training_dir, \"pDC_B_x6000-6500_y6000-6500.ome.tif\"), sub_pDC_B)"
   ]
  },
  {
   "cell_type": "code",
   "execution_count": null,
   "metadata": {},
   "outputs": [],
   "source": [
    "sub_pDC_B = pDC_B[[0,2], 0:4_000, 0:4_000]\n",
    "tifffile.imwrite(os.path.join(training_dir, \"pDC_B_x0-4000_y0-4000.ome.tif\"), sub_pDC_B)"
   ]
  },
  {
   "cell_type": "code",
   "execution_count": null,
   "metadata": {},
   "outputs": [],
   "source": [
    "training_dir = \"/stor/scratch/Ehrlich/Users/John/histocytometry/raw_images/images_2023-08-10/CP_v3_DAPI_CD11c_training\"\n",
    "sub_pDC_B = pDC_B[[0,2], 3_500:4_000, 3_500:4_000]\n",
    "tifffile.imwrite(os.path.join(training_dir, \"pDC_B_x3500-4000_y3500-4000.ome.tif\"), sub_pDC_B)"
   ]
  },
  {
   "cell_type": "code",
   "execution_count": null,
   "metadata": {},
   "outputs": [],
   "source": [
    "validation_dir = \"/stor/scratch/Ehrlich/Users/John/histocytometry/raw_images/images_2023-08-10/TN2_DAPI_CD11c_stringent_v2_validation_images\"\n",
    "pDC_C_dir=  [os.path.join(raw_dir, img_dir) for img_dir in os.listdir(raw_dir) if re.search(\"DAPI_B220_CD11c_SiglecH_C$\", img_dir)][0]\n",
    "\n",
    "pDC_C = tifffile.imread(os.path.join(pDC_C_dir, \"reordered_image.ome.tif\"))\n",
    "sub_pDC_C = pDC_C[[0,2],0:7000, 0:7000]\n",
    "tifffile.imwrite(os.path.join(validation_dir, \"pDC_C_x0-7000_y0-7000.ome.tif\"), sub_pDC_C)"
   ]
  },
  {
   "cell_type": "code",
   "execution_count": null,
   "metadata": {},
   "outputs": [],
   "source": [
    "training_dir = \"/stor/scratch/Ehrlich/Users/John/histocytometry/raw_images/images_2023-08-10/TN2_DAPI_CD11c_stringent_v1_training_images\"\n",
    "pDC_C_dir=  [os.path.join(raw_dir, img_dir) for img_dir in os.listdir(raw_dir) if re.search(\"DAPI_B220_CD11c_SiglecH_C$\", img_dir)][0]\n",
    "\n",
    "pDC_C = tifffile.imread(os.path.join(pDC_C_dir, \"reordered_image.ome.tif\"))\n",
    "sub_pDC_C = pDC_C[[0,2],0:1000, 0:1000]\n",
    "tifffile.imwrite(os.path.join(training_dir, \"pDC_C_x0-1000_y0-1000.ome.tif\"), sub_pDC_C)\n",
    "\n",
    "sub_pDC_C = pDC_C[[0,2],1000:1500, 1000:1500]\n",
    "tifffile.imwrite(os.path.join(training_dir, \"pDC_C_x1000-1500_y1000-1500.ome.tif\"), sub_pDC_C)\n",
    "sub_pDC_C = pDC_C[[0,2],1500:2000, 1500:2000]\n",
    "tifffile.imwrite(os.path.join(training_dir, \"pDC_C_x1500-2000_y1500-2000.ome.tif\"), sub_pDC_C)"
   ]
  },
  {
   "cell_type": "code",
   "execution_count": null,
   "metadata": {},
   "outputs": [],
   "source": [
    "sub_pDC_C = pDC_C[[0,2],2000:2500, 2000:2500]\n",
    "tifffile.imwrite(os.path.join(training_dir, \"pDC_C_x2000-2500_y2000-2500.ome.tif\"), sub_pDC_C)"
   ]
  },
  {
   "cell_type": "code",
   "execution_count": null,
   "metadata": {},
   "outputs": [],
   "source": [
    "sub_pDC_C = pDC_C[[0,2], 0:500, 1000:1500]\n",
    "tifffile.imwrite(os.path.join(training_dir, \"pDC_C_x0-500_y1000-1500.ome.tif\"), sub_pDC_C)\n",
    "    ## This corresponds to 500 from the top of the image and 1000 from the far left of the image. "
   ]
  },
  {
   "cell_type": "code",
   "execution_count": null,
   "metadata": {},
   "outputs": [],
   "source": [
    "sub_pDC_C = pDC_C[[0,2], 0:1000, 1500:2000]\n",
    "tifffile.imwrite(os.path.join(training_dir, \"pDC_C_x0-1000_y1500-2000.ome.tif\"), sub_pDC_C)"
   ]
  },
  {
   "cell_type": "code",
   "execution_count": null,
   "metadata": {},
   "outputs": [],
   "source": [
    "pDC_dirs=  [img_dir for img_dir in training_dirs if re.search(\"DAPI_B220_CD11c_SiglecH_[A-B]$\", img_dir)]\n",
    "pDC_dirs.sort()\n",
    "\n",
    "pDC_B = tifffile.imread(os.path.join(pDC_dirs[1], \"reordered_image.ome.tif\"))\n",
    "sub_pDC_B = pDC_B[:, 3_000:3_250, 7_000:7_250]\n",
    "# tifffile.imwrite(os.path.join(training_dir, \"all_channels_pDC_B_x3000-3250_y7000-7250.ome.tif\"), sub_pDC_B)\n",
    "funky_name_mask = np.load(\"/stor/scratch/Ehrlich/Users/John/histocytometry/raw_images/images_2023-08-10/TN2_DAPI_CD11c_v2_training_images/pDC_B_x3000-3250_y7000-7250.ome_seg.npy\", \n",
    "                          allow_pickle= True)\n",
    "print(funky_name_mask.dtype)\n",
    "print(funky_name_mask.shape)\n",
    "print(len(np.unique(funky_name_mask)))\n",
    "\n",
    "\n",
    "mask = np.load(\"/stor/scratch/Ehrlich/Users/John/histocytometry/raw_images/images_2023-08-10/TN2_DAPI_CD11c_v2_training_images/pDC_B_test.npy\",\n",
    "               allow_pickle= True)\n",
    "print(mask.dtype)\n",
    "print(mask.shape)\n",
    "print(np.unique(mask))"
   ]
  },
  {
   "attachments": {},
   "cell_type": "markdown",
   "metadata": {},
   "source": [
    "### aDC1 (XCR1 low and CD11c low)"
   ]
  },
  {
   "cell_type": "code",
   "execution_count": null,
   "metadata": {},
   "outputs": [],
   "source": [
    "aDC1_dirs = [img_dir for img_dir in training_dirs if re.search(\"DAPI_CD63_CD11c_XCR1_[A-B]$\", img_dir)]\n",
    "aDC1_dirs.sort()\n",
    "\n",
    "aDC1_A = tifffile.imread(os.path.join(aDC1_dirs[0], \"reordered_image.ome.tif\"))\n",
    "sub_aDC1_A = aDC1_A[[0,2], 4_000:4_250, 2_000:2_250]\n",
    "tifffile.imwrite(os.path.join(training_dir, \"aDC1_A_x4000-4250_y2000-2250.ome.tif\"), sub_aDC1_A)\n",
    "\n",
    "aDC1_B = tifffile.imread(os.path.join(aDC1_dirs[1], \"reordered_image.ome.tif\"))\n",
    "sub_aDC1_B = aDC1_B[[0,2], 7_000:7_250, 16_000:16_250]\n",
    "tifffile.imwrite(os.path.join(training_dir, \"aDC1_B_x7000-7250_y16000-16250.ome.tif\"), sub_aDC1_B)"
   ]
  },
  {
   "cell_type": "code",
   "execution_count": null,
   "metadata": {},
   "outputs": [],
   "source": [
    "training_dir = \"/stor/scratch/Ehrlich/Users/John/histocytometry/raw_images/images_2023-08-10/TN2_DAPI_CD11c_stringent_v1_training_images\"\n",
    "aDC1_C_dir = [os.path.join(raw_dir, img_dir) for img_dir in os.listdir(raw_dir) if re.search(\"DAPI_CD63_CD11c_XCR1_C$\", img_dir)][0]\n",
    "\n",
    "aDC1_C = tifffile.imread(os.path.join(aDC1_C_dir, \"reordered_image.ome.tif\"))\n",
    "sub_aDC1_C = aDC1_C[[0,2], 5_000:5_250, 5_000:5_250]\n",
    "tifffile.imwrite(os.path.join(training_dir, \"aDC1_C_x5000-5250_y5000-5250.ome.tif\"), sub_aDC1_C)"
   ]
  },
  {
   "cell_type": "code",
   "execution_count": null,
   "metadata": {},
   "outputs": [],
   "source": [
    "sub_aDC1_C = aDC1_C[[0,2], 6_000:6_250, 6_000:6_250]\n",
    "tifffile.imwrite(os.path.join(training_dir, \"aDC1_C_x6000-6250_y6000-6250.ome.tif\"), sub_aDC1_C)"
   ]
  },
  {
   "attachments": {},
   "cell_type": "markdown",
   "metadata": {},
   "source": [
    "### aDC2"
   ]
  },
  {
   "cell_type": "code",
   "execution_count": null,
   "metadata": {},
   "outputs": [],
   "source": [
    "aDC2_dirs = [img_dir for img_dir in training_dirs if re.search(\"DAPI_CD63_CD11c_Sirpa_[A-B]$\", img_dir)]\n",
    "aDC2_dirs.sort()\n",
    "\n",
    "aDC2_A = tifffile.imread(os.path.join(aDC2_dirs[0], \"reordered_image.ome.tif\"))\n",
    "sub_aDC2_A = aDC2_A[[0,2],6_000:6_250,12_000:12_250]\n",
    "tifffile.imwrite(os.path.join(training_dir, \"aDC2_A_x6000-6250_y12000-12250.ome.tif\"), sub_aDC2_A)\n",
    "\n",
    "aDC2_B = tifffile.imread(os.path.join(aDC2_dirs[1], \"reordered_image.ome.tif\"))\n",
    "sub_aDC2_B = aDC2_B[[0,2],4_000:4_250,10_000:10_250]\n",
    "tifffile.imwrite(os.path.join(training_dir, \"aDC2_B_x4000-4250_y10000-10250.ome.tif\"), sub_aDC2_B)"
   ]
  },
  {
   "attachments": {},
   "cell_type": "markdown",
   "metadata": {},
   "source": [
    "### cDC1 (CD207+, CD11c+, XCR1+)"
   ]
  },
  {
   "cell_type": "code",
   "execution_count": null,
   "metadata": {},
   "outputs": [],
   "source": [
    "cDC1_dirs = [img_dir for img_dir in training_dirs if re.search(\"DAPI_CD207_CD11c_XCR1_[A-B]$\", img_dir)]\n",
    "cDC1_dirs.sort()\n",
    "\n",
    "cDC1_A = tifffile.imread(os.path.join(cDC1_dirs[0], \"reordered_image.ome.tif\"))\n",
    "sub_cDC1_A = cDC1_A[[0,2], 1000:1_250, 7_000:7_250] ## Capsular region\n",
    "tifffile.imwrite(os.path.join(training_dir, \"cDC1_A_x1000-1250_y7000-7250.ome.tif\"), sub_cDC1_A)\n",
    "\n",
    "cDC1_B = tifffile.imread(os.path.join(cDC1_dirs[1], \"reordered_image.ome.tif\"))\n",
    "sub_cDC1_B = cDC1_B[[0,2], 12_000:12_250, 7_000:7_250]\n",
    "tifffile.imwrite(os.path.join(training_dir, \"cDC1_B_x12000-12250_y7000-7250.ome.tif\"), sub_cDC1_B)"
   ]
  },
  {
   "attachments": {},
   "cell_type": "markdown",
   "metadata": {},
   "source": [
    "### cDC2 (Sirpa, CD11c+, CD14+)"
   ]
  },
  {
   "cell_type": "code",
   "execution_count": null,
   "metadata": {},
   "outputs": [],
   "source": [
    "cDC2_dirs = [img_dir for img_dir in training_dirs if re.search(\"DAPI_Sirpa_CD11c_CD14_[A-B]$\", img_dir)]\n",
    "cDC2_dirs.sort()\n",
    "\n",
    "cDC2_A = tifffile.imread(os.path.join(cDC2_dirs[0], \"reordered_image.ome.tif\"))\n",
    "sub_cDC2_A = cDC2_A[[0,2], 3_000:3_250, 3_000:3_250]\n",
    "tifffile.imwrite(os.path.join(training_dir, \"cDC2_A_x3000-3250_y3000-3250.ome.tif\"), sub_cDC2_A)\n",
    "\n",
    "cDC2_B = tifffile.imread(os.path.join(cDC2_dirs[1], \"reordered_image.ome.tif\"))\n",
    "sub_cDC2_B = cDC2_B[[0,2],10_000:10_250,7_000:7_250]\n",
    "tifffile.imwrite(os.path.join(training_dir, \"cDC2_B_x10000-10250_y7000-7250.ome.tif\"), sub_cDC2_B)"
   ]
  },
  {
   "attachments": {},
   "cell_type": "markdown",
   "metadata": {},
   "source": [
    "### Macrophages"
   ]
  },
  {
   "cell_type": "code",
   "execution_count": null,
   "metadata": {},
   "outputs": [],
   "source": [
    "non_CD11c_training_dir= \"/stor/scratch/Ehrlich/Users/John/histocytometry/raw_images/images_2023-08-10/cellpose2_training_images_macs_round1\"\n",
    "mac_dirs = [img_dir for img_dir in training_dirs if re.search(\"DAPI_Sirpa_CD63_MerTK_[A-B]$\", img_dir)]\n",
    "mac_dirs.sort()\n",
    "\n",
    "mac_A = tifffile.imread(os.path.join(mac_dirs[0], \"reordered_image.ome.tif\"))\n",
    "sub_mac_A = mac_A[[0,2], 10_000:10_250, 7_000:7_250]\n",
    "tifffile.imwrite(os.path.join(non_CD11c_training_dir, \"mac_A_x10000-10250_y7000-7250.ome.tif\"), sub_mac_A)\n",
    "\n",
    "mac_B = tifffile.imread(os.path.join(mac_dirs[1], \"reordered_image.ome.tif\"))\n",
    "sub_mac_B = mac_B[[0,2], 3_000:3_250, 6_000:6_250]\n",
    "tifffile.imwrite(os.path.join(non_CD11c_training_dir, \"mac_B_x3000-3250_y6000-6250.ome.tif\"), sub_mac_B)"
   ]
  }
 ],
 "metadata": {
  "kernelspec": {
   "display_name": "Mesmer_pypi",
   "language": "python",
   "name": "python3"
  },
  "language_info": {
   "codemirror_mode": {
    "name": "ipython",
    "version": 3
   },
   "file_extension": ".py",
   "mimetype": "text/x-python",
   "name": "python",
   "nbconvert_exporter": "python",
   "pygments_lexer": "ipython3",
   "version": "3.7.16"
  },
  "orig_nbformat": 4
 },
 "nbformat": 4,
 "nbformat_minor": 2
}
