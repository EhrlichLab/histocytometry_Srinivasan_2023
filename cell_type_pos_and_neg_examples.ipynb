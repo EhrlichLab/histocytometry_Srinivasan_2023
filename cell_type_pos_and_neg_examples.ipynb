{
 "cells": [
  {
   "cell_type": "markdown",
   "metadata": {},
   "source": [
    "## Finding true positives and false negatives for gating    \n",
    "\n",
    "Use cellpose2 conda environment"
   ]
  },
  {
   "cell_type": "code",
   "execution_count": 1,
   "metadata": {},
   "outputs": [
    {
     "name": "stderr",
     "output_type": "stream",
     "text": [
      "/stor/home/jfm2773/.local/lib/python3.8/site-packages/tqdm/auto.py:22: TqdmWarning: IProgress not found. Please update jupyter and ipywidgets. See https://ipywidgets.readthedocs.io/en/stable/user_install.html\n",
      "  from .autonotebook import tqdm as notebook_tqdm\n"
     ]
    }
   ],
   "source": [
    "import numpy as np\n",
    "import pandas as pd\n",
    "import os\n",
    "import re\n",
    "import cellpose\n",
    "import tifffile\n",
    "from cellpose import plot\n",
    "import matplotlib.pyplot as plt\n",
    "%matplotlib inline"
   ]
  },
  {
   "cell_type": "markdown",
   "metadata": {},
   "source": [
    "## Functions"
   ]
  },
  {
   "cell_type": "code",
   "execution_count": 8,
   "metadata": {},
   "outputs": [],
   "source": [
    "def centroid_cell_type_mask(quant_df, mask):\n",
    "    ## Plotting square for each centroid \n",
    "    centroid_mask = np.zeros(mask.shape, dtype= \"uint16\")\n",
    "\n",
    "    for X_centroid, Y_centroid, cell_id in zip(quant_df[\"X_centroid\"], quant_df[\"Y_centroid\"], quant_df[\"CellID\"]):\n",
    "        ## Can only use integers to index\n",
    "        X_centroid = round(X_centroid)\n",
    "        Y_centroid = round(Y_centroid)\n",
    "\n",
    "        centroid_mask[Y_centroid-20:Y_centroid+20, X_centroid-20:X_centroid+20] = cell_id\n",
    "\n",
    "    return centroid_mask\n",
    "\n",
    "def gating_overlay_wrapper(img_dir, gating_name, cell_type, mask_name, img_name,  \n",
    "                           subset = True):\n",
    "    \n",
    "    ## Load gating data\n",
    "    quant_df = pd.read_csv(os.path.join(img_dir, gating_name))\n",
    "    quant_df = quant_df[quant_df[\"cell_type\"] == cell_type]\n",
    "    print(\"Load_mask\")\n",
    "    mask = tifffile.imread(os.path.join(img_dir, mask_name))\n",
    "\n",
    "    print(\"Make centroid mask\")\n",
    "    centroid_mask = centroid_cell_type_mask(quant_df= quant_df, mask = mask)\n",
    "    tifffile.imwrite(os.path.join(img_dir, \"centroid_mask.tif\"), centroid_mask)\n",
    "\n",
    "    print(\"Converting mask to binary and shrinking to uint8\")\n",
    "    centroid_mask[centroid_mask > 0] = 255\n",
    "    centroid_mask = centroid_mask.astype(\"uint8\")\n",
    "    tifffile.imwrite(os.path.join(img_dir, cell_type + \"_binary_centroid_mask.tif\"), centroid_mask)\n",
    "    \n",
    "    print(\"Overlaying centroids on markers\")\n",
    "    img = tifffile.imread(os.path.join(img_dir, img_name))\n",
    "    centroid_mask = centroid_mask[np.newaxis,...]\n",
    "    region_w_centroids = np.concatenate((img, centroid_mask))\n",
    "\n",
    "    tifffile.imwrite(os.path.join(img_dir, cell_type + \"_img_w_centroids.ome.tif\"), region_w_centroids)\n",
    "\n",
    "    if(subset):\n",
    "        print(\"Writing 50% subsetted image\")\n",
    "        upper_bound = round(min(centroid_mask.shape[1:3])/2)\n",
    "        region_w_centroids = region_w_centroids[:, :, 1_000:upper_bound]\n",
    "        # region_w_centroids = region_w_centroids[:, 4_000:8_000, 4_000:8_000] # I used this for CD14_A\n",
    "        tifffile.imwrite(os.path.join(img_dir, cell_type + \"_subset_region_w_centroids.ome.tif\"), region_w_centroids)\n",
    "\n",
    "    return None"
   ]
  },
  {
   "cell_type": "code",
   "execution_count": 3,
   "metadata": {},
   "outputs": [],
   "source": [
    "raw_dir=\"/stor/scratch/Ehrlich/Users/John/histocytometry/raw_images/images_2023-08-10\"\n",
    "img_dirs= [os.path.join(raw_dir, img_dir) for img_dir in os.listdir(raw_dir) if re.search(\"_[A-D]$\", img_dir) and not re.search(\"_Sirpa_C$|CD207_CD11c_XCR1_C$\", img_dir)]"
   ]
  },
  {
   "cell_type": "code",
   "execution_count": 11,
   "metadata": {},
   "outputs": [
    {
     "name": "stdout",
     "output_type": "stream",
     "text": [
      "Load_mask\n",
      "Make centroid mask\n",
      "Converting mask to binary and shrinking to uint8\n",
      "Overlaying centroids on markers\n",
      "Writing 50% subsetted image\n"
     ]
    }
   ],
   "source": [
    "img_dir = os.path.join(raw_dir, \"20x_pan_DAPI_B220_CD11c_SiglecH_A\")\n",
    "\n",
    "gating_overlay_wrapper(img_dir     = img_dir, \n",
    "                       gating_name = \"combined_gated_cell_types.csv\", \n",
    "                       cell_type   = \"pDC\", \n",
    "                       mask_name   = \"cp2_mask.tif\", \n",
    "                       img_name    = \"reordered_image_w_thymus_regions_50um.ome.tif\", \n",
    "                       subset      = True)"
   ]
  },
  {
   "cell_type": "code",
   "execution_count": 13,
   "metadata": {},
   "outputs": [
    {
     "name": "stdout",
     "output_type": "stream",
     "text": [
      "Load_mask\n",
      "Make centroid mask\n",
      "Converting mask to binary and shrinking to uint8\n",
      "Overlaying centroids on markers\n",
      "Writing 50% subsetted image\n"
     ]
    }
   ],
   "source": [
    "img_dir = os.path.join(raw_dir, \"20x_pan_DAPI_B220_CD11c_SiglecH_B\")\n",
    "\n",
    "gating_overlay_wrapper(img_dir     = img_dir, \n",
    "                       gating_name = \"combined_gated_cell_types.csv\", \n",
    "                       cell_type   = \"pDC\", \n",
    "                       mask_name   = \"cp2_mask.tif\", \n",
    "                       img_name    = \"reordered_image_w_thymus_regions_50um.ome.tif\", \n",
    "                       subset      = True)"
   ]
  },
  {
   "cell_type": "code",
   "execution_count": 14,
   "metadata": {},
   "outputs": [
    {
     "name": "stdout",
     "output_type": "stream",
     "text": [
      "Load_mask\n",
      "Make centroid mask\n",
      "Converting mask to binary and shrinking to uint8\n",
      "Overlaying centroids on markers\n",
      "Writing 50% subsetted image\n"
     ]
    }
   ],
   "source": [
    "img_dir = os.path.join(raw_dir, \"20x_pan_DAPI_B220_CD11c_SiglecH_C\")\n",
    "\n",
    "gating_overlay_wrapper(img_dir     = img_dir, \n",
    "                       gating_name = \"combined_gated_cell_types.csv\", \n",
    "                       cell_type   = \"pDC\", \n",
    "                       mask_name   = \"cp2_mask.tif\", \n",
    "                       img_name    = \"reordered_image_w_thymus_regions_50um.ome.tif\", \n",
    "                       subset      = True)"
   ]
  },
  {
   "cell_type": "code",
   "execution_count": 9,
   "metadata": {},
   "outputs": [
    {
     "name": "stdout",
     "output_type": "stream",
     "text": [
      "Load_mask\n",
      "Make centroid mask\n",
      "Converting mask to binary and shrinking to uint8\n",
      "Overlaying centroids on markers\n",
      "Writing 50% subsetted image\n"
     ]
    }
   ],
   "source": [
    "img_dir = os.path.join(raw_dir, \"20x_pan_DAPI_CD63_CD11c_Sirpa_A\")\n",
    "\n",
    "gating_overlay_wrapper(img_dir     = img_dir, \n",
    "                       gating_name = \"combined_gated_cell_types.csv\", \n",
    "                       cell_type   = \"aDC2\", \n",
    "                       mask_name   = \"cp2_mask.tif\", \n",
    "                       img_name    = \"reordered_image_w_thymus_regions_50um.ome.tif\",\n",
    "                       subset      = True)"
   ]
  },
  {
   "cell_type": "code",
   "execution_count": 10,
   "metadata": {},
   "outputs": [
    {
     "name": "stdout",
     "output_type": "stream",
     "text": [
      "Load_mask\n",
      "Make centroid mask\n",
      "Converting mask to binary and shrinking to uint8\n",
      "Overlaying centroids on markers\n",
      "Writing 50% subsetted image\n"
     ]
    }
   ],
   "source": [
    "img_dir = os.path.join(raw_dir, \"20x_pan_DAPI_CD63_CD11c_Sirpa_B\")\n",
    "\n",
    "gating_overlay_wrapper(img_dir     = img_dir, \n",
    "                       gating_name = \"combined_gated_cell_types.csv\", \n",
    "                       cell_type   = \"aDC2\", \n",
    "                       mask_name   = \"cp2_mask.tif\", \n",
    "                       img_name    = \"reordered_image_w_thymus_regions_50um.ome.tif\",\n",
    "                       subset      = True)"
   ]
  },
  {
   "cell_type": "code",
   "execution_count": 11,
   "metadata": {},
   "outputs": [
    {
     "name": "stdout",
     "output_type": "stream",
     "text": [
      "Load_mask\n",
      "Make centroid mask\n",
      "Converting mask to binary and shrinking to uint8\n",
      "Overlaying centroids on markers\n",
      "Writing 50% subsetted image\n"
     ]
    }
   ],
   "source": [
    "img_dir = os.path.join(raw_dir, \"20x_pan_DAPI_CD63_CD11c_Sirpa_D\")\n",
    "\n",
    "gating_overlay_wrapper(img_dir     = img_dir, \n",
    "                       gating_name = \"combined_gated_cell_types.csv\", \n",
    "                       cell_type   = \"aDC2\", \n",
    "                       mask_name   = \"cp2_mask.tif\", \n",
    "                       img_name    = \"reordered_image_w_thymus_regions_50um.ome.tif\",\n",
    "                       subset      = True)\n",
    "    ## This one has a really bad Sirpa stain."
   ]
  },
  {
   "cell_type": "code",
   "execution_count": 12,
   "metadata": {},
   "outputs": [
    {
     "name": "stdout",
     "output_type": "stream",
     "text": [
      "Load_mask\n",
      "Make centroid mask\n",
      "Converting mask to binary and shrinking to uint8\n",
      "Overlaying centroids on markers\n",
      "Writing 50% subsetted image\n"
     ]
    }
   ],
   "source": [
    "img_dir = os.path.join(raw_dir, \"20x_pan_DAPI_CD207_CD11c_XCR1_A\")\n",
    "\n",
    "gating_overlay_wrapper(img_dir     = img_dir, \n",
    "                       gating_name = \"combined_gated_cell_types.csv\", \n",
    "                       cell_type   = \"CD207+cDC1\", \n",
    "                       mask_name   = \"cp2_mask.tif\", \n",
    "                       img_name    = \"reordered_image_w_thymus_regions_50um.ome.tif\",\n",
    "                       subset      = True)\n",
    "    ## This one is oversegmenting quite badly."
   ]
  },
  {
   "cell_type": "code",
   "execution_count": 13,
   "metadata": {},
   "outputs": [
    {
     "name": "stdout",
     "output_type": "stream",
     "text": [
      "Load_mask\n",
      "Make centroid mask\n",
      "Converting mask to binary and shrinking to uint8\n",
      "Overlaying centroids on markers\n",
      "Writing 50% subsetted image\n"
     ]
    }
   ],
   "source": [
    "img_dir = os.path.join(raw_dir, \"20x_pan_DAPI_CD207_CD11c_XCR1_B\")\n",
    "\n",
    "gating_overlay_wrapper(img_dir     = img_dir, \n",
    "                       gating_name = \"combined_gated_cell_types.csv\", \n",
    "                       cell_type   = \"CD207+cDC1\", \n",
    "                       mask_name   = \"cp2_mask.tif\", \n",
    "                       img_name    = \"reordered_image_w_thymus_regions_50um.ome.tif\",\n",
    "                       subset      = True)"
   ]
  },
  {
   "cell_type": "code",
   "execution_count": 14,
   "metadata": {},
   "outputs": [
    {
     "name": "stdout",
     "output_type": "stream",
     "text": [
      "Load_mask\n",
      "Make centroid mask\n",
      "Converting mask to binary and shrinking to uint8\n",
      "Overlaying centroids on markers\n",
      "Writing 50% subsetted image\n"
     ]
    }
   ],
   "source": [
    "img_dir = os.path.join(raw_dir, \"20x_pan_DAPI_CD207_CD11c_XCR1_D\")\n",
    "\n",
    "gating_overlay_wrapper(img_dir     = img_dir, \n",
    "                       gating_name = \"combined_gated_cell_types.csv\", \n",
    "                       cell_type   = \"CD207+cDC1\", \n",
    "                       mask_name   = \"cp2_mask.tif\", \n",
    "                       img_name    = \"reordered_image_w_thymus_regions_50um.ome.tif\",\n",
    "                       subset      = True)"
   ]
  },
  {
   "cell_type": "code",
   "execution_count": 15,
   "metadata": {},
   "outputs": [
    {
     "name": "stdout",
     "output_type": "stream",
     "text": [
      "Load_mask\n",
      "Make centroid mask\n",
      "Converting mask to binary and shrinking to uint8\n",
      "Overlaying centroids on markers\n",
      "Writing 50% subsetted image\n"
     ]
    }
   ],
   "source": [
    "img_dir = os.path.join(raw_dir, \"20x_pan_DAPI_CD63_CD11c_XCR1_A\")\n",
    "\n",
    "gating_overlay_wrapper(img_dir     = img_dir, \n",
    "                       gating_name = \"combined_gated_cell_types.csv\", \n",
    "                       cell_type   = \"aDC1\",  \n",
    "                       mask_name   = \"cp2_mask.tif\", \n",
    "                       img_name    = \"reordered_image_w_thymus_regions_50um.ome.tif\",\n",
    "                       subset      = True)"
   ]
  },
  {
   "cell_type": "code",
   "execution_count": 16,
   "metadata": {},
   "outputs": [
    {
     "name": "stdout",
     "output_type": "stream",
     "text": [
      "Load_mask\n",
      "Make centroid mask\n",
      "Converting mask to binary and shrinking to uint8\n",
      "Overlaying centroids on markers\n",
      "Writing 50% subsetted image\n"
     ]
    }
   ],
   "source": [
    "img_dir = os.path.join(raw_dir, \"20x_pan_DAPI_CD63_CD11c_XCR1_B\")\n",
    "\n",
    "gating_overlay_wrapper(img_dir     = img_dir, \n",
    "                       gating_name = \"combined_gated_cell_types.csv\", \n",
    "                       cell_type   = \"aDC1\",  \n",
    "                       mask_name   = \"cp2_mask.tif\", \n",
    "                       img_name    = \"reordered_image_w_thymus_regions_50um.ome.tif\",\n",
    "                       subset      = True)"
   ]
  },
  {
   "cell_type": "code",
   "execution_count": 17,
   "metadata": {},
   "outputs": [
    {
     "name": "stdout",
     "output_type": "stream",
     "text": [
      "Load_mask\n",
      "Make centroid mask\n",
      "Converting mask to binary and shrinking to uint8\n",
      "Overlaying centroids on markers\n",
      "Writing 50% subsetted image\n"
     ]
    }
   ],
   "source": [
    "img_dir = os.path.join(raw_dir, \"20x_pan_DAPI_CD63_CD11c_XCR1_C\")\n",
    "\n",
    "gating_overlay_wrapper(img_dir     = img_dir, \n",
    "                       gating_name = \"combined_gated_cell_types.csv\", \n",
    "                       cell_type   = \"aDC1\",  \n",
    "                       mask_name   = \"cp2_mask.tif\", \n",
    "                       img_name    = \"reordered_image_w_thymus_regions_50um.ome.tif\",\n",
    "                       subset      = True)"
   ]
  },
  {
   "cell_type": "code",
   "execution_count": 18,
   "metadata": {},
   "outputs": [
    {
     "name": "stdout",
     "output_type": "stream",
     "text": [
      "Load_mask\n",
      "Make centroid mask\n",
      "Converting mask to binary and shrinking to uint8\n",
      "Overlaying centroids on markers\n",
      "Writing 50% subsetted image\n"
     ]
    }
   ],
   "source": [
    "img_dir = os.path.join(raw_dir, \"20x_pan_DAPI_CD63_CD11c_XCR1_D\")\n",
    "\n",
    "gating_overlay_wrapper(img_dir     = img_dir, \n",
    "                       gating_name = \"combined_gated_cell_types.csv\", \n",
    "                       cell_type   = \"aDC1\",  \n",
    "                       mask_name   = \"cp2_mask.tif\", \n",
    "                       img_name    = \"reordered_image_w_thymus_regions_50um.ome.tif\",\n",
    "                       subset      = True)\n",
    "## This one has some capsule issues."
   ]
  },
  {
   "cell_type": "code",
   "execution_count": 19,
   "metadata": {},
   "outputs": [
    {
     "name": "stdout",
     "output_type": "stream",
     "text": [
      "Load_mask\n",
      "Make centroid mask\n",
      "Converting mask to binary and shrinking to uint8\n",
      "Overlaying centroids on markers\n",
      "Writing 50% subsetted image\n"
     ]
    }
   ],
   "source": [
    "img_dir = os.path.join(raw_dir, \"20x_pan_DAPI_Sirpa_CD11c_CD14_A\")\n",
    "\n",
    "gating_overlay_wrapper(img_dir     = img_dir, \n",
    "                       gating_name = \"combined_gated_cell_types.csv\", \n",
    "                       cell_type   = \"CD14+cDC2\",\n",
    "                       mask_name   = \"cp2_mask.tif\", \n",
    "                       img_name    = \"reordered_image_w_thymus_regions_50um.ome.tif\",\n",
    "                       subset      = True)"
   ]
  },
  {
   "cell_type": "code",
   "execution_count": 20,
   "metadata": {},
   "outputs": [
    {
     "name": "stdout",
     "output_type": "stream",
     "text": [
      "Load_mask\n",
      "Make centroid mask\n",
      "Converting mask to binary and shrinking to uint8\n",
      "Overlaying centroids on markers\n",
      "Writing 50% subsetted image\n"
     ]
    }
   ],
   "source": [
    "img_dir = os.path.join(raw_dir, \"20x_pan_DAPI_Sirpa_CD11c_CD14_B\")\n",
    "\n",
    "gating_overlay_wrapper(img_dir     = img_dir, \n",
    "                       gating_name = \"combined_gated_cell_types.csv\", \n",
    "                       cell_type   = \"CD14+cDC2\",\n",
    "                       mask_name   = \"cp2_mask.tif\", \n",
    "                       img_name    = \"reordered_image_w_thymus_regions_50um.ome.tif\",\n",
    "                       subset      = True)"
   ]
  },
  {
   "cell_type": "code",
   "execution_count": 21,
   "metadata": {},
   "outputs": [
    {
     "name": "stdout",
     "output_type": "stream",
     "text": [
      "Load_mask\n",
      "Make centroid mask\n",
      "Converting mask to binary and shrinking to uint8\n",
      "Overlaying centroids on markers\n",
      "Writing 50% subsetted image\n"
     ]
    }
   ],
   "source": [
    "img_dir = os.path.join(raw_dir, \"20x_pan_DAPI_Sirpa_CD11c_CD14_C\")\n",
    "\n",
    "gating_overlay_wrapper(img_dir     = img_dir, \n",
    "                       gating_name = \"combined_gated_cell_types.csv\", \n",
    "                       cell_type   = \"CD14+cDC2\",\n",
    "                       mask_name   = \"cp2_mask.tif\", \n",
    "                       img_name    = \"reordered_image_w_thymus_regions_50um.ome.tif\",\n",
    "                       subset      = True)"
   ]
  },
  {
   "cell_type": "code",
   "execution_count": 22,
   "metadata": {},
   "outputs": [
    {
     "name": "stdout",
     "output_type": "stream",
     "text": [
      "Load_mask\n",
      "Make centroid mask\n",
      "Converting mask to binary and shrinking to uint8\n",
      "Overlaying centroids on markers\n",
      "Writing 50% subsetted image\n"
     ]
    }
   ],
   "source": [
    "img_dir = os.path.join(raw_dir, \"20x_pan_DAPI_Sirpa_CD63_MerTK_A\")\n",
    "\n",
    "gating_overlay_wrapper(img_dir     = img_dir, \n",
    "                       gating_name = \"combined_gated_cell_types.csv\", \n",
    "                       cell_type   = \"aDC2\",\n",
    "                       mask_name   = \"cp2_mask.tif\", \n",
    "                       img_name    = \"reordered_image_w_thymus_regions_50um.ome.tif\",\n",
    "                       subset      = True)"
   ]
  },
  {
   "cell_type": "code",
   "execution_count": 23,
   "metadata": {},
   "outputs": [
    {
     "name": "stdout",
     "output_type": "stream",
     "text": [
      "Load_mask\n",
      "Make centroid mask\n",
      "Converting mask to binary and shrinking to uint8\n",
      "Overlaying centroids on markers\n",
      "Writing 50% subsetted image\n"
     ]
    }
   ],
   "source": [
    "img_dir = os.path.join(raw_dir, \"20x_pan_DAPI_Sirpa_CD63_MerTK_A\")\n",
    "\n",
    "gating_overlay_wrapper(img_dir     = img_dir, \n",
    "                       gating_name = \"combined_gated_cell_types.csv\", \n",
    "                       cell_type   = \"Macrophage\",\n",
    "                       mask_name   = \"cp2_mask.tif\", \n",
    "                       img_name    = \"reordered_image_w_thymus_regions_50um.ome.tif\",\n",
    "                       subset      = True)"
   ]
  },
  {
   "cell_type": "code",
   "execution_count": 24,
   "metadata": {},
   "outputs": [
    {
     "name": "stdout",
     "output_type": "stream",
     "text": [
      "Load_mask\n",
      "Make centroid mask\n",
      "Converting mask to binary and shrinking to uint8\n",
      "Overlaying centroids on markers\n",
      "Writing 50% subsetted image\n"
     ]
    }
   ],
   "source": [
    "img_dir = os.path.join(raw_dir, \"20x_pan_DAPI_Sirpa_CD63_MerTK_B\")\n",
    "\n",
    "gating_overlay_wrapper(img_dir     = img_dir, \n",
    "                       gating_name = \"combined_gated_cell_types.csv\", \n",
    "                       cell_type   = \"aDC2\",\n",
    "                       mask_name   = \"cp2_mask.tif\", \n",
    "                       img_name    = \"reordered_image_w_thymus_regions_50um.ome.tif\",\n",
    "                       subset      = True)"
   ]
  },
  {
   "cell_type": "code",
   "execution_count": 25,
   "metadata": {},
   "outputs": [
    {
     "name": "stdout",
     "output_type": "stream",
     "text": [
      "Load_mask\n",
      "Make centroid mask\n",
      "Converting mask to binary and shrinking to uint8\n",
      "Overlaying centroids on markers\n",
      "Writing 50% subsetted image\n"
     ]
    }
   ],
   "source": [
    "img_dir = os.path.join(raw_dir, \"20x_pan_DAPI_Sirpa_CD63_MerTK_B\")\n",
    "\n",
    "gating_overlay_wrapper(img_dir     = img_dir, \n",
    "                       gating_name = \"combined_gated_cell_types.csv\", \n",
    "                       cell_type   = \"Macrophage\",\n",
    "                       mask_name   = \"cp2_mask.tif\", \n",
    "                       img_name    = \"reordered_image_w_thymus_regions_50um.ome.tif\",\n",
    "                       subset      = True)"
   ]
  },
  {
   "cell_type": "code",
   "execution_count": 26,
   "metadata": {},
   "outputs": [
    {
     "name": "stdout",
     "output_type": "stream",
     "text": [
      "Load_mask\n",
      "Make centroid mask\n",
      "Converting mask to binary and shrinking to uint8\n",
      "Overlaying centroids on markers\n",
      "Writing 50% subsetted image\n"
     ]
    }
   ],
   "source": [
    "img_dir = os.path.join(raw_dir, \"20x_pan_DAPI_Sirpa_CD63_MerTK_D\")\n",
    "\n",
    "gating_overlay_wrapper(img_dir     = img_dir, \n",
    "                       gating_name = \"combined_gated_cell_types.csv\", \n",
    "                       cell_type   = \"aDC2\",\n",
    "                       mask_name   = \"cp2_mask.tif\", \n",
    "                       img_name    = \"reordered_image_w_thymus_regions_50um.ome.tif\",\n",
    "                       subset      = True)"
   ]
  },
  {
   "cell_type": "markdown",
   "metadata": {},
   "source": [
    "# Old code below"
   ]
  },
  {
   "cell_type": "code",
   "execution_count": 62,
   "metadata": {},
   "outputs": [
    {
     "name": "stdout",
     "output_type": "stream",
     "text": [
      "Load_mask\n",
      "Make centroid mask\n",
      "Converting mask to binary and shrinking to uint8\n",
      "Overlaying centroids on markers\n",
      "Writing 50% subsetted image\n"
     ]
    }
   ],
   "source": [
    "img_dir = os.path.join(raw_dir, \"cortex_20x_pan_DAPI_CD207_CD11c_XCR1_A\")\n",
    "\n",
    "gating_overlay_wrapper(img_dir     = img_dir, \n",
    "                       gating_name = \"combined_gated_cell_types.csv\", \n",
    "                       cell_type   = \"CD207+cDC1\", \n",
    "                       mask_name   = \"cp2_mask.tif\", \n",
    "                       img_name    = \"region_img.ome.tif\", \n",
    "                       quant_name  = \"region_img_cp2_mask_min_area_filtered.csv\",\n",
    "                       subset      = True)"
   ]
  },
  {
   "cell_type": "code",
   "execution_count": 68,
   "metadata": {},
   "outputs": [
    {
     "name": "stdout",
     "output_type": "stream",
     "text": [
      "Load_mask\n",
      "Make centroid mask\n",
      "Converting mask to binary and shrinking to uint8\n",
      "Overlaying centroids on markers\n",
      "Writing 50% subsetted image\n"
     ]
    }
   ],
   "source": [
    "img_dir = os.path.join(raw_dir, \"cortex_20x_pan_DAPI_CD63_CD11c_XCR1_A\")\n",
    "\n",
    "gating_overlay_wrapper(img_dir     = img_dir, \n",
    "                       gating_name = \"combined_gated_cell_types.csv\", \n",
    "                       cell_type   = \"aDC1\", \n",
    "                       mask_name   = \"cp2_mask.tif\", \n",
    "                       img_name    = \"region_img.ome.tif\", \n",
    "                       quant_name  = \"region_img_cp2_mask_min_area_filtered.csv\",\n",
    "                       subset      = True)"
   ]
  },
  {
   "cell_type": "code",
   "execution_count": 77,
   "metadata": {},
   "outputs": [
    {
     "name": "stdout",
     "output_type": "stream",
     "text": [
      "Load_mask\n",
      "Make centroid mask\n",
      "Converting mask to binary and shrinking to uint8\n",
      "Overlaying centroids on markers\n",
      "Writing 50% subsetted image\n"
     ]
    }
   ],
   "source": [
    "img_dir = os.path.join(raw_dir, \"medulla_20x_pan_DAPI_Sirpa_CD11c_CD14_A\")\n",
    "\n",
    "gating_overlay_wrapper(img_dir     = img_dir, \n",
    "                       gating_name = \"combined_gated_cell_types.csv\", \n",
    "                       cell_type   = \"CD14+cDC2\", \n",
    "                       mask_name   = \"cp2_mask.tif\", \n",
    "                       img_name    = \"region_img.ome.tif\", \n",
    "                       quant_name  = \"region_img_cp2_mask_min_area_filtered.csv\",\n",
    "                       subset      = True)\n",
    "## Manually set downsampling to 4000 to 8000"
   ]
  },
  {
   "cell_type": "code",
   "execution_count": 98,
   "metadata": {},
   "outputs": [
    {
     "name": "stdout",
     "output_type": "stream",
     "text": [
      "Load_mask\n",
      "Make centroid mask\n",
      "Converting mask to binary and shrinking to uint8\n",
      "Overlaying centroids on markers\n",
      "Writing 50% subsetted image\n"
     ]
    }
   ],
   "source": [
    "img_dir = os.path.join(raw_dir, \"cortex_20x_pan_DAPI_Sirpa_CD63_MerTK_A\")\n",
    "\n",
    "gating_overlay_wrapper(img_dir     = img_dir, \n",
    "                       gating_name = \"combined_gated_cell_types.csv\", \n",
    "                       cell_type   = \"Macrophage\", \n",
    "                       mask_name   = \"cp2_mask.tif\", \n",
    "                       img_name    = \"region_img.ome.tif\", \n",
    "                       quant_name  = \"region_img_cp2_mask_min_area_filtered.csv\",\n",
    "                       subset      = True)"
   ]
  },
  {
   "cell_type": "code",
   "execution_count": 101,
   "metadata": {},
   "outputs": [
    {
     "name": "stdout",
     "output_type": "stream",
     "text": [
      "Load_mask\n",
      "Make centroid mask\n",
      "Converting mask to binary and shrinking to uint8\n",
      "Overlaying centroids on markers\n",
      "Writing 50% subsetted image\n"
     ]
    }
   ],
   "source": [
    "img_dir = os.path.join(raw_dir, \"cortex_20x_pan_DAPI_Sirpa_CD63_MerTK_A\")\n",
    "\n",
    "gating_overlay_wrapper(img_dir     = img_dir, \n",
    "                       gating_name = \"combined_gated_cell_types.csv\", \n",
    "                       cell_type   = \"aDC2\", \n",
    "                       mask_name   = \"cp2_mask.tif\", \n",
    "                       img_name    = \"region_img.ome.tif\", \n",
    "                       quant_name  = \"region_img_cp2_mask_min_area_filtered.csv\",\n",
    "                       subset      = True)"
   ]
  },
  {
   "cell_type": "markdown",
   "metadata": {},
   "source": [
    "### pDC_A cortex"
   ]
  },
  {
   "cell_type": "code",
   "execution_count": 4,
   "metadata": {},
   "outputs": [
    {
     "name": "stdout",
     "output_type": "stream",
     "text": [
      "['not_annotated' 'pDC']\n"
     ]
    }
   ],
   "source": [
    "## Representative examples\n",
    "true_pos_cell_IDs = [5226, 5227, 5268, 5360, 5369]\n",
    "true_neg_cell_IDs = [5391, 5414]\n",
    "\n",
    "## Pull in cell quantification data \n",
    "img_dir = os.path.join(raw_dir, \"cortex_20x_pan_DAPI_B220_CD11c_SiglecH_A\")\n",
    "pDC_A_quant = pd.read_csv(os.path.join(img_dir,\"region_img_cp2_mask_min_area_filtered.csv\"))\n",
    "\n",
    "## Colin's gating\n",
    "pDC_A_cell_types = pd.read_csv(os.path.join(img_dir, \"export_null_pDC.csv\"))\n",
    "pDC_A_cell_types[\"cell_type\"] = \"pDC\"\n",
    "pDC_A_cell_types = pDC_A_cell_types[[\"CellID\", \"cell_type\"]]\n",
    "\n",
    "## Adding cell type info\n",
    "pDC_A_quant = pDC_A_quant.merge(pDC_A_cell_types, on='CellID', how='left')\n",
    "pDC_A_quant.cell_type = pDC_A_quant.cell_type.fillna(\"not_annotated\")\n",
    "print(pd.unique(pDC_A_quant.cell_type))\n",
    "\n",
    "## Load mask \n",
    "pDC_A_mask = tifffile.imread(os.path.join(img_dir, \"cp2_mask.tif\"))"
   ]
  },
  {
   "cell_type": "code",
   "execution_count": 36,
   "metadata": {},
   "outputs": [],
   "source": [
    "## Test\n",
    "pDC_quant = pDC_A_quant[pDC_A_quant[\"cell_type\"] == \"pDC\"] \n",
    "\n",
    "pDC_centroid_mask = centroid_cell_type_mask(quant_df= pDC_quant, mask = pDC_A_mask)\n",
    "tifffile.imwrite(os.path.join(img_dir, \"centroid_mask.tif\"), pDC_centroid_mask)\n",
    "\n",
    "## Converting mask to binary and shrinking to uint8\n",
    "pDC_centroid_mask[pDC_centroid_mask > 0] = 255\n",
    "pDC_centroid_mask = pDC_centroid_mask.astype(\"uint8\")\n",
    "pDC_centroid_mask = pDC_centroid_mask[np.newaxis,...]\n",
    "\n",
    "\n",
    "region_img = tifffile.imread(os.path.join(img_dir, \"region_img.ome.tif\"))\n",
    "region_w_centroids = np.concatenate((region_img, pDC_centroid_mask))\n",
    "\n",
    "tifffile.imwrite(os.path.join(img_dir, \"region_w_centroids.ome.tif\"), region_w_centroids)"
   ]
  },
  {
   "cell_type": "code",
   "execution_count": 63,
   "metadata": {},
   "outputs": [],
   "source": [
    "## To make colors from cell type annotation, I would need to make a 2D array of size (n_masks x 3 RGB)\n",
    "cell_type_colors = np.zeros((len(pDC_A_quant.cell_type), 3))\n",
    "colors = {\"not_annotated\" : np.array((199.0, 33.0, 221.0)),\n",
    "          \"pDC\"           : np.array((209.0, 74.0, 0.0))}\n",
    "\n",
    "for i, cell_type in enumerate(pDC_A_quant.cell_type):\n",
    "    cell_type_colors[i,:] = colors[cell_type]"
   ]
  },
  {
   "cell_type": "code",
   "execution_count": 81,
   "metadata": {},
   "outputs": [
    {
     "name": "stdout",
     "output_type": "stream",
     "text": [
      "(843, 19)\n"
     ]
    }
   ],
   "source": [
    "## Why don't I just overlay the mask on the iamge?\n",
    "sub_pDC_quant = sub_pDC_A_quant[sub_pDC_A_quant[\"cell_type\"] == \"pDC\"] \n",
    "print(sub_pDC_quant.shape)\n",
    "sub_pDC_mask = np.zeros(sub_pDC_A_mask.shape)\n",
    "\n",
    "for cell_id in sub_pDC_quant.CellID:\n",
    "    ipix = (sub_pDC_A_mask == cell_id).nonzero()\n",
    "    sub_pDC_mask[ipix[0],ipix[1]] = cell_id\n",
    "\n",
    "## A full image of pDC_A (21144, 20736) takes ~15 minutes?\n",
    "## We could do a table of true, neg, and borderline to quickly iterate. "
   ]
  },
  {
   "cell_type": "code",
   "execution_count": 82,
   "metadata": {},
   "outputs": [
    {
     "name": "stdout",
     "output_type": "stream",
     "text": [
      "(21144, 20736)\n"
     ]
    }
   ],
   "source": [
    "## I will overlay the cell type mask on the original image and save it. \n",
    "    ## I could also load both and overlay with FIJI.\n",
    "print(pDC_A_mask.shape)\n",
    "## We could plot the centroid on the image, maybe do this as individual channels, so we can toggle.\n",
    "## 2x2 square \n",
    "## Run all of the current A gated populations w/ each population as its own channel."
   ]
  },
  {
   "cell_type": "code",
   "execution_count": null,
   "metadata": {},
   "outputs": [],
   "source": [
    "centroid_mask = np.zeros(pDC_A_mask.shape)\n",
    "for X_centroid, Y_centroid, cell_id in zip(df[[\"X_centroid\", \"Y_centroid\", \"CellID\"]):\n",
    "    centroid_mask[X_centroid:X_centroid+2, Y_centroid:Y_centroid+2] = cell_id"
   ]
  },
  {
   "cell_type": "code",
   "execution_count": 79,
   "metadata": {},
   "outputs": [
    {
     "data": {
      "image/png": "[encoded data removed]",
      "text/plain": [
       "<Figure size 640x480 with 1 Axes>"
      ]
     },
     "metadata": {},
     "output_type": "display_data"
    }
   ],
   "source": [
    "region_img = tifffile.imread(os.path.join(img_dir, \"region_img.ome.tif\"))\n",
    "\n",
    "sub_pDC_mask= sub_pDC_mask[np.newaxis,...]\n",
    "region_img = np.concatenate((region_img, sub_pDC_mask))\n",
    "\n",
    "tifffile.imwrite(os.path.join(img_dir, \"pDC_mask_test.tif\"), region_img)"
   ]
  },
  {
   "cell_type": "code",
   "execution_count": 12,
   "metadata": {},
   "outputs": [
    {
     "name": "stdout",
     "output_type": "stream",
     "text": [
      "SiglecH -- Min: 17.0, Max:  34.0\n",
      "B220    -- Min: 10.0, Max:  13.0\n",
      "CD11c   -- Min: 12.0, Max:  36.0\n"
     ]
    }
   ],
   "source": [
    "true_pos_quant = pDC_A_quant[pDC_A_quant[\"CellID\"].isin(true_pos_cell_IDs)]\n",
    "\n",
    "print(f\"SiglecH -- Min: {np.min(true_pos_quant.SiglecH_intensity_median)}, Max:  {np.max(true_pos_quant.SiglecH_intensity_median)}\")\n",
    "print(f\"B220    -- Min: {np.min(true_pos_quant.B220_intensity_median)}, Max:  {np.max(true_pos_quant.B220_intensity_median)}\")\n",
    "print(f\"CD11c   -- Min: {np.min(true_pos_quant.CD11c_intensity_median)}, Max:  {np.max(true_pos_quant.CD11c_intensity_median)}\")\n",
    "\n",
    "\n",
    "## For pDC_A, validation cells could be (17_500, 2_500) to (19_000, 6_000)\n",
    "    ## There should be a bunch of pDCs in this area.\n"
   ]
  },
  {
   "cell_type": "code",
   "execution_count": 13,
   "metadata": {},
   "outputs": [
    {
     "name": "stdout",
     "output_type": "stream",
     "text": [
      "(5, 18)\n",
      "SiglecH -- Min: 7.0, Max:  7.0\n",
      "B220    -- Min: 8.0, Max:  8.0\n",
      "CD11c   -- Min: 26.0, Max:  36.0\n"
     ]
    }
   ],
   "source": [
    "true_neg_quant = pDC_A_quant[pDC_A_quant[\"CellID\"].isin(true_neg_cell_IDs)]\n",
    "print(true_pos_quant.shape)\n",
    "\n",
    "print(f\"SiglecH -- Min: {np.min(true_neg_quant.SiglecH_intensity_median)}, Max:  {np.max(true_neg_quant.SiglecH_intensity_median)}\")\n",
    "print(f\"B220    -- Min: {np.min(true_neg_quant.B220_intensity_median)}, Max:  {np.max(true_neg_quant.B220_intensity_median)}\")\n",
    "print(f\"CD11c   -- Min: {np.min(true_neg_quant.CD11c_intensity_median)}, Max:  {np.max(true_neg_quant.CD11c_intensity_median)}\")"
   ]
  },
  {
   "cell_type": "code",
   "execution_count": 14,
   "metadata": {},
   "outputs": [
    {
     "name": "stdout",
     "output_type": "stream",
     "text": [
      "(6.0, 57.0)\n"
     ]
    }
   ],
   "source": [
    "print((np.min(pDC_A_quant.SiglecH_intensity_median), np.max(pDC_A_quant.SiglecH_intensity_median)))"
   ]
  }
 ],
 "metadata": {
  "kernelspec": {
   "display_name": "Mesmer_pypi",
   "language": "python",
   "name": "python3"
  },
  "language_info": {
   "codemirror_mode": {
    "name": "ipython",
    "version": 3
   },
   "file_extension": ".py",
   "mimetype": "text/x-python",
   "name": "python",
   "nbconvert_exporter": "python",
   "pygments_lexer": "ipython3",
   "version": "3.8.17"
  },
  "orig_nbformat": 4
 },
 "nbformat": 4,
 "nbformat_minor": 2
}
