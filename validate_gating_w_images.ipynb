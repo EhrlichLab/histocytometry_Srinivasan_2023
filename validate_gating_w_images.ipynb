{
 "cells": [
  {
   "cell_type": "markdown",
   "metadata": {},
   "source": [
    "## Making images to validate gating\n",
    "\n"
   ]
  },
  {
   "cell_type": "code",
   "execution_count": null,
   "metadata": {},
   "outputs": [],
   "source": [
    "import numpy as np\n",
    "import pandas as pd\n",
    "import os\n",
    "import re\n",
    "import cellpose\n",
    "import tifffile\n",
    "from cellpose import plot\n",
    "import matplotlib.pyplot as plt\n",
    "%matplotlib inline"
   ]
  },
  {
   "cell_type": "markdown",
   "metadata": {},
   "source": [
    "## Functions"
   ]
  },
  {
   "cell_type": "code",
   "execution_count": null,
   "metadata": {},
   "outputs": [],
   "source": [
    "def centroid_cell_type_mask(quant_df, mask):\n",
    "    ## Plotting square for each centroid \n",
    "    centroid_mask = np.zeros(mask.shape, dtype= \"uint16\")\n",
    "\n",
    "    for X_centroid, Y_centroid, cell_id in zip(quant_df[\"X_centroid\"], quant_df[\"Y_centroid\"], quant_df[\"CellID\"]):\n",
    "        ## Can only use integers to index\n",
    "        X_centroid = round(X_centroid)\n",
    "        Y_centroid = round(Y_centroid)\n",
    "\n",
    "        centroid_mask[Y_centroid-20:Y_centroid+20, X_centroid-20:X_centroid+20] = cell_id\n",
    "\n",
    "    return centroid_mask\n",
    "\n",
    "def gating_overlay_wrapper(img_dir, gating_name, cell_type, mask_name, img_name,  \n",
    "                           subset = True):\n",
    "    \n",
    "    ## Load gating data\n",
    "    quant_df = pd.read_csv(os.path.join(img_dir, gating_name))\n",
    "    quant_df = quant_df[quant_df[\"cell_type\"] == cell_type]\n",
    "    print(\"Load_mask\")\n",
    "    mask = tifffile.imread(os.path.join(img_dir, mask_name))\n",
    "\n",
    "    print(\"Make centroid mask\")\n",
    "    centroid_mask = centroid_cell_type_mask(quant_df= quant_df, mask = mask)\n",
    "    tifffile.imwrite(os.path.join(img_dir, \"centroid_mask.tif\"), centroid_mask)\n",
    "\n",
    "    print(\"Converting mask to binary and shrinking to uint8\")\n",
    "    centroid_mask[centroid_mask > 0] = 255\n",
    "    centroid_mask = centroid_mask.astype(\"uint8\")\n",
    "    tifffile.imwrite(os.path.join(img_dir, cell_type + \"_binary_centroid_mask.tif\"), centroid_mask)\n",
    "    \n",
    "    print(\"Overlaying centroids on markers\")\n",
    "    img = tifffile.imread(os.path.join(img_dir, img_name))\n",
    "    centroid_mask = centroid_mask[np.newaxis,...]\n",
    "    region_w_centroids = np.concatenate((img, centroid_mask))\n",
    "\n",
    "    tifffile.imwrite(os.path.join(img_dir, cell_type + \"_img_w_centroids.ome.tif\"), region_w_centroids)\n",
    "\n",
    "    if(subset):\n",
    "        print(\"Writing 50% subsetted image\")\n",
    "        upper_bound = round(min(centroid_mask.shape[1:3])/2)\n",
    "        region_w_centroids = region_w_centroids[:, :, 1_000:upper_bound]\n",
    "        # region_w_centroids = region_w_centroids[:, 4_000:8_000, 4_000:8_000] # I used this for CD14_A\n",
    "        tifffile.imwrite(os.path.join(img_dir, cell_type + \"_subset_region_w_centroids.ome.tif\"), region_w_centroids)\n",
    "\n",
    "    return None"
   ]
  },
  {
   "cell_type": "markdown",
   "metadata": {},
   "source": [
    "## Running images"
   ]
  },
  {
   "cell_type": "code",
   "execution_count": null,
   "metadata": {},
   "outputs": [],
   "source": [
    "raw_dir=\"/stor/scratch/Ehrlich/Users/John/histocytometry/raw_images/images_2023-08-10\"\n",
    "img_dirs= [os.path.join(raw_dir, img_dir) for img_dir in os.listdir(raw_dir) if re.search(\"_[A-D]$\", img_dir) and not re.search(\"_Sirpa_C$|CD207_CD11c_XCR1_C$\", img_dir)]"
   ]
  },
  {
   "cell_type": "code",
   "execution_count": null,
   "metadata": {},
   "outputs": [],
   "source": [
    "img_dir = os.path.join(raw_dir, \"20x_pan_DAPI_B220_CD11c_SiglecH_A\")\n",
    "\n",
    "gating_overlay_wrapper(img_dir     = img_dir, \n",
    "                       gating_name = \"combined_gated_cell_types.csv\", \n",
    "                       cell_type   = \"pDC\", \n",
    "                       mask_name   = \"cp2_mask.tif\", \n",
    "                       img_name    = \"reordered_image_w_thymus_regions_50um.ome.tif\", \n",
    "                       subset      = True)"
   ]
  },
  {
   "cell_type": "code",
   "execution_count": null,
   "metadata": {},
   "outputs": [],
   "source": [
    "img_dir = os.path.join(raw_dir, \"20x_pan_DAPI_B220_CD11c_SiglecH_B\")\n",
    "\n",
    "gating_overlay_wrapper(img_dir     = img_dir, \n",
    "                       gating_name = \"combined_gated_cell_types.csv\", \n",
    "                       cell_type   = \"pDC\", \n",
    "                       mask_name   = \"cp2_mask.tif\", \n",
    "                       img_name    = \"reordered_image_w_thymus_regions_50um.ome.tif\", \n",
    "                       subset      = True)"
   ]
  },
  {
   "cell_type": "code",
   "execution_count": null,
   "metadata": {},
   "outputs": [],
   "source": [
    "img_dir = os.path.join(raw_dir, \"20x_pan_DAPI_B220_CD11c_SiglecH_C\")\n",
    "\n",
    "gating_overlay_wrapper(img_dir     = img_dir, \n",
    "                       gating_name = \"combined_gated_cell_types.csv\", \n",
    "                       cell_type   = \"pDC\", \n",
    "                       mask_name   = \"cp2_mask.tif\", \n",
    "                       img_name    = \"reordered_image_w_thymus_regions_50um.ome.tif\", \n",
    "                       subset      = True)"
   ]
  },
  {
   "cell_type": "code",
   "execution_count": null,
   "metadata": {},
   "outputs": [],
   "source": [
    "img_dir = os.path.join(raw_dir, \"20x_pan_DAPI_CD63_CD11c_Sirpa_A\")\n",
    "\n",
    "gating_overlay_wrapper(img_dir     = img_dir, \n",
    "                       gating_name = \"combined_gated_cell_types.csv\", \n",
    "                       cell_type   = \"aDC2\", \n",
    "                       mask_name   = \"cp2_mask.tif\", \n",
    "                       img_name    = \"reordered_image_w_thymus_regions_50um.ome.tif\",\n",
    "                       subset      = True)"
   ]
  },
  {
   "cell_type": "code",
   "execution_count": null,
   "metadata": {},
   "outputs": [],
   "source": [
    "img_dir = os.path.join(raw_dir, \"20x_pan_DAPI_CD63_CD11c_Sirpa_B\")\n",
    "\n",
    "gating_overlay_wrapper(img_dir     = img_dir, \n",
    "                       gating_name = \"combined_gated_cell_types.csv\", \n",
    "                       cell_type   = \"aDC2\", \n",
    "                       mask_name   = \"cp2_mask.tif\", \n",
    "                       img_name    = \"reordered_image_w_thymus_regions_50um.ome.tif\",\n",
    "                       subset      = True)"
   ]
  },
  {
   "cell_type": "code",
   "execution_count": null,
   "metadata": {},
   "outputs": [],
   "source": [
    "img_dir = os.path.join(raw_dir, \"20x_pan_DAPI_CD63_CD11c_Sirpa_D\")\n",
    "\n",
    "gating_overlay_wrapper(img_dir     = img_dir, \n",
    "                       gating_name = \"combined_gated_cell_types.csv\", \n",
    "                       cell_type   = \"aDC2\", \n",
    "                       mask_name   = \"cp2_mask.tif\", \n",
    "                       img_name    = \"reordered_image_w_thymus_regions_50um.ome.tif\",\n",
    "                       subset      = True)\n",
    "    ## This one has a really bad Sirpa stain."
   ]
  },
  {
   "cell_type": "code",
   "execution_count": null,
   "metadata": {},
   "outputs": [],
   "source": [
    "img_dir = os.path.join(raw_dir, \"20x_pan_DAPI_CD207_CD11c_XCR1_A\")\n",
    "\n",
    "gating_overlay_wrapper(img_dir     = img_dir, \n",
    "                       gating_name = \"combined_gated_cell_types.csv\", \n",
    "                       cell_type   = \"CD207+cDC1\", \n",
    "                       mask_name   = \"cp2_mask.tif\", \n",
    "                       img_name    = \"reordered_image_w_thymus_regions_50um.ome.tif\",\n",
    "                       subset      = True)\n",
    "    ## This one is oversegmenting quite badly."
   ]
  },
  {
   "cell_type": "code",
   "execution_count": null,
   "metadata": {},
   "outputs": [],
   "source": [
    "img_dir = os.path.join(raw_dir, \"20x_pan_DAPI_CD207_CD11c_XCR1_B\")\n",
    "\n",
    "gating_overlay_wrapper(img_dir     = img_dir, \n",
    "                       gating_name = \"combined_gated_cell_types.csv\", \n",
    "                       cell_type   = \"CD207+cDC1\", \n",
    "                       mask_name   = \"cp2_mask.tif\", \n",
    "                       img_name    = \"reordered_image_w_thymus_regions_50um.ome.tif\",\n",
    "                       subset      = True)"
   ]
  },
  {
   "cell_type": "code",
   "execution_count": null,
   "metadata": {},
   "outputs": [],
   "source": [
    "img_dir = os.path.join(raw_dir, \"20x_pan_DAPI_CD207_CD11c_XCR1_D\")\n",
    "\n",
    "gating_overlay_wrapper(img_dir     = img_dir, \n",
    "                       gating_name = \"combined_gated_cell_types.csv\", \n",
    "                       cell_type   = \"CD207+cDC1\", \n",
    "                       mask_name   = \"cp2_mask.tif\", \n",
    "                       img_name    = \"reordered_image_w_thymus_regions_50um.ome.tif\",\n",
    "                       subset      = True)"
   ]
  },
  {
   "cell_type": "code",
   "execution_count": null,
   "metadata": {},
   "outputs": [],
   "source": [
    "img_dir = os.path.join(raw_dir, \"20x_pan_DAPI_CD63_CD11c_XCR1_A\")\n",
    "\n",
    "gating_overlay_wrapper(img_dir     = img_dir, \n",
    "                       gating_name = \"combined_gated_cell_types.csv\", \n",
    "                       cell_type   = \"aDC1\",  \n",
    "                       mask_name   = \"cp2_mask.tif\", \n",
    "                       img_name    = \"reordered_image_w_thymus_regions_50um.ome.tif\",\n",
    "                       subset      = True)"
   ]
  },
  {
   "cell_type": "code",
   "execution_count": null,
   "metadata": {},
   "outputs": [],
   "source": [
    "img_dir = os.path.join(raw_dir, \"20x_pan_DAPI_CD63_CD11c_XCR1_B\")\n",
    "\n",
    "gating_overlay_wrapper(img_dir     = img_dir, \n",
    "                       gating_name = \"combined_gated_cell_types.csv\", \n",
    "                       cell_type   = \"aDC1\",  \n",
    "                       mask_name   = \"cp2_mask.tif\", \n",
    "                       img_name    = \"reordered_image_w_thymus_regions_50um.ome.tif\",\n",
    "                       subset      = True)"
   ]
  },
  {
   "cell_type": "code",
   "execution_count": null,
   "metadata": {},
   "outputs": [],
   "source": [
    "img_dir = os.path.join(raw_dir, \"20x_pan_DAPI_CD63_CD11c_XCR1_C\")\n",
    "\n",
    "gating_overlay_wrapper(img_dir     = img_dir, \n",
    "                       gating_name = \"combined_gated_cell_types.csv\", \n",
    "                       cell_type   = \"aDC1\",  \n",
    "                       mask_name   = \"cp2_mask.tif\", \n",
    "                       img_name    = \"reordered_image_w_thymus_regions_50um.ome.tif\",\n",
    "                       subset      = True)"
   ]
  },
  {
   "cell_type": "code",
   "execution_count": null,
   "metadata": {},
   "outputs": [],
   "source": [
    "img_dir = os.path.join(raw_dir, \"20x_pan_DAPI_CD63_CD11c_XCR1_D\")\n",
    "\n",
    "gating_overlay_wrapper(img_dir     = img_dir, \n",
    "                       gating_name = \"combined_gated_cell_types.csv\", \n",
    "                       cell_type   = \"aDC1\",  \n",
    "                       mask_name   = \"cp2_mask.tif\", \n",
    "                       img_name    = \"reordered_image_w_thymus_regions_50um.ome.tif\",\n",
    "                       subset      = True)\n",
    "## This one has some capsule issues."
   ]
  },
  {
   "cell_type": "code",
   "execution_count": null,
   "metadata": {},
   "outputs": [],
   "source": [
    "img_dir = os.path.join(raw_dir, \"20x_pan_DAPI_Sirpa_CD11c_CD14_A\")\n",
    "\n",
    "gating_overlay_wrapper(img_dir     = img_dir, \n",
    "                       gating_name = \"combined_gated_cell_types.csv\", \n",
    "                       cell_type   = \"CD14+cDC2\",\n",
    "                       mask_name   = \"cp2_mask.tif\", \n",
    "                       img_name    = \"reordered_image_w_thymus_regions_50um.ome.tif\",\n",
    "                       subset      = True)"
   ]
  },
  {
   "cell_type": "code",
   "execution_count": null,
   "metadata": {},
   "outputs": [],
   "source": [
    "img_dir = os.path.join(raw_dir, \"20x_pan_DAPI_Sirpa_CD11c_CD14_B\")\n",
    "\n",
    "gating_overlay_wrapper(img_dir     = img_dir, \n",
    "                       gating_name = \"combined_gated_cell_types.csv\", \n",
    "                       cell_type   = \"CD14+cDC2\",\n",
    "                       mask_name   = \"cp2_mask.tif\", \n",
    "                       img_name    = \"reordered_image_w_thymus_regions_50um.ome.tif\",\n",
    "                       subset      = True)"
   ]
  },
  {
   "cell_type": "code",
   "execution_count": null,
   "metadata": {},
   "outputs": [],
   "source": [
    "img_dir = os.path.join(raw_dir, \"20x_pan_DAPI_Sirpa_CD11c_CD14_C\")\n",
    "\n",
    "gating_overlay_wrapper(img_dir     = img_dir, \n",
    "                       gating_name = \"combined_gated_cell_types.csv\", \n",
    "                       cell_type   = \"CD14+cDC2\",\n",
    "                       mask_name   = \"cp2_mask.tif\", \n",
    "                       img_name    = \"reordered_image_w_thymus_regions_50um.ome.tif\",\n",
    "                       subset      = True)"
   ]
  },
  {
   "cell_type": "code",
   "execution_count": null,
   "metadata": {},
   "outputs": [],
   "source": [
    "img_dir = os.path.join(raw_dir, \"20x_pan_DAPI_Sirpa_CD63_MerTK_A\")\n",
    "\n",
    "gating_overlay_wrapper(img_dir     = img_dir, \n",
    "                       gating_name = \"combined_gated_cell_types.csv\", \n",
    "                       cell_type   = \"aDC2\",\n",
    "                       mask_name   = \"cp2_mask.tif\", \n",
    "                       img_name    = \"reordered_image_w_thymus_regions_50um.ome.tif\",\n",
    "                       subset      = True)"
   ]
  },
  {
   "cell_type": "code",
   "execution_count": null,
   "metadata": {},
   "outputs": [],
   "source": [
    "img_dir = os.path.join(raw_dir, \"20x_pan_DAPI_Sirpa_CD63_MerTK_A\")\n",
    "\n",
    "gating_overlay_wrapper(img_dir     = img_dir, \n",
    "                       gating_name = \"combined_gated_cell_types.csv\", \n",
    "                       cell_type   = \"Macrophage\",\n",
    "                       mask_name   = \"cp2_mask.tif\", \n",
    "                       img_name    = \"reordered_image_w_thymus_regions_50um.ome.tif\",\n",
    "                       subset      = True)"
   ]
  },
  {
   "cell_type": "code",
   "execution_count": null,
   "metadata": {},
   "outputs": [],
   "source": [
    "img_dir = os.path.join(raw_dir, \"20x_pan_DAPI_Sirpa_CD63_MerTK_B\")\n",
    "\n",
    "gating_overlay_wrapper(img_dir     = img_dir, \n",
    "                       gating_name = \"combined_gated_cell_types.csv\", \n",
    "                       cell_type   = \"aDC2\",\n",
    "                       mask_name   = \"cp2_mask.tif\", \n",
    "                       img_name    = \"reordered_image_w_thymus_regions_50um.ome.tif\",\n",
    "                       subset      = True)"
   ]
  },
  {
   "cell_type": "code",
   "execution_count": null,
   "metadata": {},
   "outputs": [],
   "source": [
    "img_dir = os.path.join(raw_dir, \"20x_pan_DAPI_Sirpa_CD63_MerTK_B\")\n",
    "\n",
    "gating_overlay_wrapper(img_dir     = img_dir, \n",
    "                       gating_name = \"combined_gated_cell_types.csv\", \n",
    "                       cell_type   = \"Macrophage\",\n",
    "                       mask_name   = \"cp2_mask.tif\", \n",
    "                       img_name    = \"reordered_image_w_thymus_regions_50um.ome.tif\",\n",
    "                       subset      = True)"
   ]
  },
  {
   "cell_type": "code",
   "execution_count": null,
   "metadata": {},
   "outputs": [],
   "source": [
    "img_dir = os.path.join(raw_dir, \"20x_pan_DAPI_Sirpa_CD63_MerTK_D\")\n",
    "\n",
    "gating_overlay_wrapper(img_dir     = img_dir, \n",
    "                       gating_name = \"combined_gated_cell_types.csv\", \n",
    "                       cell_type   = \"aDC2\",\n",
    "                       mask_name   = \"cp2_mask.tif\", \n",
    "                       img_name    = \"reordered_image_w_thymus_regions_50um.ome.tif\",\n",
    "                       subset      = True)"
   ]
  }
 ],
 "metadata": {
  "kernelspec": {
   "display_name": "Mesmer_pypi",
   "language": "python",
   "name": "python3"
  },
  "language_info": {
   "codemirror_mode": {
    "name": "ipython",
    "version": 3
   },
   "file_extension": ".py",
   "mimetype": "text/x-python",
   "name": "python",
   "nbconvert_exporter": "python",
   "pygments_lexer": "ipython3",
   "version": "3.8.17"
  },
  "orig_nbformat": 4
 },
 "nbformat": 4,
 "nbformat_minor": 2
}
